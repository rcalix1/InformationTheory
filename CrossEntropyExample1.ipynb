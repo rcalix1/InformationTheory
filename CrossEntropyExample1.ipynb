{
 "cells": [
  {
   "cell_type": "markdown",
   "id": "49a9985d",
   "metadata": {},
   "source": [
    "\n",
    "## Cross Entropy example\n",
    "\n",
    "* Entropy is a mathematical idea describing uncertainty\n",
    "* Given a very biased coin with both sides having a head, the probability of getting a head is 100%\n",
    "* Similarly, the chance of getting a tail is 0\n",
    "* In both cases we are 100% certain of the outcome\n",
    "* The uncertainty is  0 and, therefore, we can say that Entropy is 0\n"
   ]
  },
  {
   "cell_type": "markdown",
   "id": "867b4cd2",
   "metadata": {},
   "source": [
    "\n",
    "* Given a fair coin, with head on one side and tail on the other side, we have reached the maximum uncertainty about the outcome\n",
    "* and the entropy is highest\n",
    "* the entropy formula is\n",
    "\n",
    "$$\n",
    "     entropy = \\sum -p \\cdot ln(p)\n",
    "$$\n",
    "\n",
    "* the sum is over all potential outcomes\n",
    "* and p is the probability of those outcomes\n",
    "\n"
   ]
  },
  {
   "cell_type": "code",
   "execution_count": 40,
   "id": "b38d1d35",
   "metadata": {},
   "outputs": [],
   "source": [
    "\n",
    "import matplotlib.pyplot as plt\n",
    "import numpy as np\n",
    "\n",
    "np.set_printoptions(suppress=True)\n"
   ]
  },
  {
   "cell_type": "code",
   "execution_count": 41,
   "id": "03244951",
   "metadata": {},
   "outputs": [],
   "source": [
    "\n",
    "def entropy_fn( p ):\n",
    "    if p<=0 or p>=1:\n",
    "        return 0\n",
    "    return -p * np.log2(p) - (1-p)*np.log2(1-p)\n"
   ]
  },
  {
   "cell_type": "code",
   "execution_count": 42,
   "id": "46fde20a",
   "metadata": {},
   "outputs": [
    {
     "name": "stdout",
     "output_type": "stream",
     "text": [
      "[-2.  -1.9 -1.8 -1.7 -1.6 -1.5 -1.4 -1.3 -1.2 -1.1 -1.  -0.9 -0.8 -0.7\n",
      " -0.6 -0.5 -0.4 -0.3 -0.2 -0.1  0.   0.1  0.2  0.3  0.4  0.5  0.6  0.7\n",
      "  0.8  0.9  1.   1.1  1.2  1.3  1.4  1.5  1.6  1.7  1.8  1.9]\n",
      "[0, 0, 0, 0, 0, 0, 0, 0, 0, 0, 0, 0, 0, 0, 0, 0, 0, 0, 0, 0, 8.960422633366421e-14, 0.4689955935892871, 0.7219280948873663, 0.8812908992306951, 0.9709505944546699, 1.0, 0.9709505944546672, 0.8812908992306896, 0.7219280948873574, 0.468995593589273, 0, 0, 0, 0, 0, 0, 0, 0, 0, 0]\n"
     ]
    },
    {
     "data": {
      "image/png": "[encoded data removed]",
      "text/plain": [
       "<Figure size 640x480 with 1 Axes>"
      ]
     },
     "metadata": {},
     "output_type": "display_data"
    }
   ],
   "source": [
    "\n",
    "\n",
    "xs = np.arange(-2,2,0.1)\n",
    "ys = [ entropy_fn(i) for i in xs ]\n",
    "print(xs)\n",
    "print(ys)\n",
    "\n",
    "plt.plot(xs, ys)\n",
    "plt.ylabel(\"Entropy\")\n",
    "plt.xlabel(\"Probability of a Head\")\n",
    "plt.xlim(-1, 2)\n",
    "plt.ylim(0, 2)\n",
    "plt.show()\n"
   ]
  },
  {
   "cell_type": "markdown",
   "id": "c337f04c",
   "metadata": {},
   "source": [
    "\n",
    "* the top has the least certainty\n",
    "* at y = 0 you have the most certainty\n",
    "* where both sides are head and p(head)= 1, then uncertainty is 0\n",
    "* when both sides of coin are tail and p(tail)=0, then uncertainty is 0\n",
    "* the entropy is highest when the coin is fair and p(head)=0.5\n"
   ]
  },
  {
   "cell_type": "markdown",
   "id": "c50d7292",
   "metadata": {},
   "source": [
    "\n",
    "## Example 1\n",
    "\n",
    "* calculate entropy for coin with both sides as head\n",
    "* so p(head)=1 and p(tail)=0\n",
    "\n",
    "$$\n",
    "     entropy = \\sum -p \\cdot ln(p)\n",
    "$$\n",
    "\n",
    "$$\n",
    "     entropy = -1 \\cdot ln(1) - 0 \\cdot ln(0)\n",
    "$$\n",
    "\n",
    "$$\n",
    "     entropy = 0\n",
    "$$\n"
   ]
  },
  {
   "cell_type": "markdown",
   "id": "08398992",
   "metadata": {},
   "source": [
    "\n",
    "## Example 2\n",
    "\n",
    "* Entropy of fair coin so that p(Head)=0.5 and p(Tail)=0.5\n",
    "* has highest entropy and maximum uncertainty \n",
    "\n",
    "$$\n",
    "     entropy = \\sum -p \\cdot ln(p)\n",
    "$$\n",
    "\n",
    "$$\n",
    "     entropy = -0.5 \\cdot ln(0.5) - 0.5 \\cdot ln(0.5)\n",
    "$$\n",
    "\n",
    "$$\n",
    "     entropy = 0\n",
    "$$\n",
    "\n"
   ]
  },
  {
   "cell_type": "code",
   "execution_count": 43,
   "id": "859e5eed",
   "metadata": {},
   "outputs": [
    {
     "data": {
      "text/plain": [
       "1.0"
      ]
     },
     "execution_count": 43,
     "metadata": {},
     "output_type": "execute_result"
    }
   ],
   "source": [
    "\n",
    "p_ex2 = 0.5\n",
    "Entropy_ex2 = entropy_fn( p_ex2 )\n",
    "Entropy_ex2\n"
   ]
  },
  {
   "cell_type": "markdown",
   "id": "7a25c523",
   "metadata": {},
   "source": [
    "\n",
    "## Cross Entropy\n"
   ]
  },
  {
   "cell_type": "code",
   "execution_count": null,
   "id": "14aedab6",
   "metadata": {},
   "outputs": [],
   "source": []
  },
  {
   "cell_type": "code",
   "execution_count": null,
   "id": "ad2059a4",
   "metadata": {},
   "outputs": [],
   "source": []
  },
  {
   "cell_type": "code",
   "execution_count": null,
   "id": "a6b55572",
   "metadata": {},
   "outputs": [],
   "source": []
  },
  {
   "cell_type": "code",
   "execution_count": null,
   "id": "f6e0b6d3",
   "metadata": {},
   "outputs": [],
   "source": []
  },
  {
   "cell_type": "code",
   "execution_count": null,
   "id": "9748250f",
   "metadata": {},
   "outputs": [],
   "source": []
  },
  {
   "cell_type": "code",
   "execution_count": null,
   "id": "93047cab",
   "metadata": {},
   "outputs": [],
   "source": []
  },
  {
   "cell_type": "code",
   "execution_count": null,
   "id": "43a255ca",
   "metadata": {},
   "outputs": [],
   "source": []
  },
  {
   "cell_type": "code",
   "execution_count": null,
   "id": "ec409711",
   "metadata": {},
   "outputs": [],
   "source": []
  },
  {
   "cell_type": "code",
   "execution_count": null,
   "id": "584c85d5",
   "metadata": {},
   "outputs": [],
   "source": []
  }
 ],
 "metadata": {
  "kernelspec": {
   "display_name": "Python 3 (ipykernel)",
   "language": "python",
   "name": "python3"
  },
  "language_info": {
   "codemirror_mode": {
    "name": "ipython",
    "version": 3
   },
   "file_extension": ".py",
   "mimetype": "text/x-python",
   "name": "python",
   "nbconvert_exporter": "python",
   "pygments_lexer": "ipython3",
   "version": "3.7.16"
  }
 },
 "nbformat": 4,
 "nbformat_minor": 5
}

{
 "cells": [
  {
   "cell_type": "markdown",
   "id": "ebf75a3f-71db-44ee-881f-840753834956",
   "metadata": {},
   "source": [
    "\n",
    "## Quantum Entropy\n"
   ]
  },
  {
   "cell_type": "code",
   "execution_count": 1,
   "id": "95395582-5266-4770-a048-d96c2e321cdb",
   "metadata": {},
   "outputs": [],
   "source": [
    "\n",
    "import numpy as np\n",
    "import matplotlib.pyplot as plt\n"
   ]
  },
  {
   "cell_type": "code",
   "execution_count": 2,
   "id": "63a02f08-ab66-48ff-aebf-dc391785b978",
   "metadata": {},
   "outputs": [
    {
     "name": "stdout",
     "output_type": "stream",
     "text": [
      "Quantum Entropy: 0.9710\n"
     ]
    }
   ],
   "source": [
    "\n",
    "# Quantum entropy calculation (von Neumann entropy)\n",
    "def quantum_entropy(density_matrix):\n",
    "    \"\"\"Calculate von Neumann entropy from a density matrix.\"\"\"\n",
    "    eigenvalues = np.linalg.eigvals(density_matrix)\n",
    "    eigenvalues = eigenvalues[eigenvalues > 0]  # Filter out zero eigenvalues\n",
    "    return -np.sum(eigenvalues * np.log2(eigenvalues))\n",
    "\n",
    "# Example density matrix (random Hermitian positive-definite matrix)\n",
    "density_matrix = np.array([[0.5, 0.1], [0.1, 0.5]])\n",
    "quantum_entropy_value = quantum_entropy(density_matrix)\n",
    "print(f\"Quantum Entropy: {quantum_entropy_value:.4f}\")\n"
   ]
  },
  {
   "cell_type": "code",
   "execution_count": null,
   "id": "c878430c-739d-49dc-bf32-e4ecaa67a41d",
   "metadata": {},
   "outputs": [],
   "source": []
  },
  {
   "cell_type": "code",
   "execution_count": null,
   "id": "218971f5-0b95-4f3a-bebc-797b85ffd366",
   "metadata": {},
   "outputs": [],
   "source": []
  },
  {
   "cell_type": "code",
   "execution_count": null,
   "id": "8469000e-f33b-4986-bccc-bad8334f9538",
   "metadata": {},
   "outputs": [],
   "source": []
  },
  {
   "cell_type": "code",
   "execution_count": null,
   "id": "908a5677-cfa0-4e81-9663-4b080f05740d",
   "metadata": {},
   "outputs": [],
   "source": []
  },
  {
   "cell_type": "code",
   "execution_count": null,
   "id": "4d205d2b-a74d-48c9-92c3-3de3d35987a3",
   "metadata": {},
   "outputs": [],
   "source": []
  },
  {
   "cell_type": "code",
   "execution_count": null,
   "id": "1615b7ad-db78-4b37-be8b-8546e16824b6",
   "metadata": {},
   "outputs": [],
   "source": []
  },
  {
   "cell_type": "code",
   "execution_count": null,
   "id": "72687a74-ac33-45c1-ba8f-913c2eff3e26",
   "metadata": {},
   "outputs": [],
   "source": []
  },
  {
   "cell_type": "code",
   "execution_count": null,
   "id": "5f4483e8-c3a7-4600-b074-8c263e7ac1d1",
   "metadata": {},
   "outputs": [],
   "source": []
  },
  {
   "cell_type": "code",
   "execution_count": null,
   "id": "2743a4bd-d050-4efc-9c29-91dbc5ef4362",
   "metadata": {},
   "outputs": [],
   "source": []
  },
  {
   "cell_type": "code",
   "execution_count": null,
   "id": "1a031eb6-184c-44e3-9853-cb19dbf66ceb",
   "metadata": {},
   "outputs": [],
   "source": []
  }
 ],
 "metadata": {
  "kernelspec": {
   "display_name": "Python 3 (ipykernel)",
   "language": "python",
   "name": "python3"
  },
  "language_info": {
   "codemirror_mode": {
    "name": "ipython",
    "version": 3
   },
   "file_extension": ".py",
   "mimetype": "text/x-python",
   "name": "python",
   "nbconvert_exporter": "python",
   "pygments_lexer": "ipython3",
   "version": "3.8.20"
  }
 },
 "nbformat": 4,
 "nbformat_minor": 5
}

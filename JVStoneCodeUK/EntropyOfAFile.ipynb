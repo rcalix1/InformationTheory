{
 "cells": [
  {
   "cell_type": "code",
   "execution_count": 1,
   "id": "01de1272-b2a7-4c12-a709-4a98829e7ab5",
   "metadata": {},
   "outputs": [],
   "source": [
    "\n",
    "import numpy as np\n",
    "import matplotlib.pyplot as plt\n"
   ]
  },
  {
   "cell_type": "code",
   "execution_count": null,
   "id": "19267d34-81cb-488f-8dce-689268da7474",
   "metadata": {},
   "outputs": [],
   "source": []
  },
  {
   "cell_type": "code",
   "execution_count": 2,
   "id": "f4b9004b-f241-4ca4-9191-b6b41b9c43b4",
   "metadata": {},
   "outputs": [
    {
     "name": "stdout",
     "output_type": "stream",
     "text": [
      "b'>JR\\x00\\xf4\\x1f\\xf6&\\xedE,\\x97\\xf3I_I(\\xc0m\\x9c)e/\\x7f\\xfe\\xffo.z\\xfdD\\xb3\\x0b~u\\xfa\\x17\\xc7\\x18\\x8f\\xf3\\xd9u)E\\t\\xdd\\x83t\\xc7\\xbf\\xc70Zv.4q\\x08\\xc5\\xeb\\xd6\\x80\\x90\\xa4\\x8eV\\xda\\xab\\xc5;\\xef\\xfe\\xfa\\xc0\\xd6=i\\xb6\\xbb[\\xc8)\\xec\\x97\\xcd-\\xb84\\xb4\\xb1\\xeby\\x0f=~l6_\\x07\\x92\\x15\\xf0\\x856\\xd2_\\x80\\xd4n\\x0e\\xfa-O\\xb2\\xd5\\x87\\xf9 8\\xceQ@\\x88\\xe0{\\xa8\\xd9\\x8a.\\xfb+\\xb3sS\\xe4aG\\xa0M7\\xf8\\x08\\'\\xf0\\xe3\\xf7\\x1a\\xf6z\\x83\\xa8\\x93\\x1d\\x07\\x1eZ\\x94*\\x83-\\x8bW\\xda\\xaa\\xb3\\x91\\xf5\\xcc\\xb4\\x08\\xcc{\\x89\\x15_\\x9bV<\\xbb\\x9cS\\xd5\\xf0\\xdaEv\\xe4\\x9b\\xd3\\xd5\\xa0\\xc5y\\x9f\\x18>\\x01\\x92\\x8d\\xa3\\xef\\xe9:\\xb8\\xe4pV\\xc6^d\\xe1i=\\xea\\xb0\\xb5\\x1a\\x97a\\x9d\\xe0@S\\x05[\"\\xe29\\x01\\xca\\xcd\\xcca\\x84\\x10\\x9fR\\xfb\\xe9\\x90@;\\xe6\\xee\\xbc\\x13\\xb7\\xfd\\xca}\\xf3\\x90\\xa0\\xc2\\x156\\xea^tPK\\xa5\\x98\\x91\\xde\\xc4\\x07$r!m\\x88\\xbf0f\\x15\\xe5\\x04B\\x948&(\\x12aN\\x98&@\\xa850lX\\xf3L7\\x9d\\xea\\x1b\\xbfO\\x9f\\r\\x8c~\\x9d\\xd3\\xac%\\x9d\\xd8\\xfa>\\n\\xc3!`\\x96\\xa8\\x97\\xed\\nb\\xb5}\\xe7\\xaeK\\t\\x98`F\\xea\\xeaf\\xfe\\x97[kp\\xf0\\x8f \\xe4\\x91\\x9eK\\xd7P\\xa8\\xc8\\\\Q\\xf4\\xb01g\\x08\\xccNc\\xf9\\xfdk\"\\xa2m]=8j\\xda\\x9f\\x99\\x08\\xc3@\\xb8\\xa9\\x1e\\t\\xda\\x8f\\x8f\\x19J\\xe7\\xfa\\xc81\\x9b\\xa7\\xb0\\x11E\\x0c\\xf5\\x92x\\xb4&\\x1a\\xae7\\xe9\\xf4\\xd0\\xf1\\x00\\xe9\\x15\\rI\\xfe\\x1c\\xa4\\x06\\xc5\\x9fuI\\xe75\\x95\\x91*f#\\x8b\\xde\\xf0h\\xee2\\xc1\\x0f\\x8e4\\xb9\\x1a\"j\\x1b\\xba\\xe2\\xae\\xc8f\\x15v\\x9d4\\xc9\\x07\\x86\\x8emK\\xf0\\xaeB\\x8d(|]\\x9f\\xea\\xae\\xb99\\x0bq\\x13\\x0b\\xfd5Z\\x9b]\\x97Q\\x1e\\x05\\xc4\\xb2\\xf6\\xd7\\xd8\\x82\\xc5\\x9d\\xf5\\xca\\xbd\\x0c\\x11AJ3\\xe8.\\xc0\\x0fY\\xb8\\x10\\xfb\\x95\\x9cN5\\x1d\\xeb2\\xc45\\x92\\x1bOKh\\x9a8\\xa1Q\\xb0=\\x0b\\x9b\\x17\\x0e\\xdf<\\x94\\x7fh\\x06\\xd5W@q\\xd677\\x88\\x8eM\\x16\\x84\\x16\\xe6yi+)\\x99m\\xa1\\xe9\\xe3\\xc5*#\\xac=\\x0bS\\x8eq.\\xe3\\x00\\x029I\\xc7\\xe1\\xd9`\\x0e6v\\x1f\\xe8W\\xd3>\\xcdp\\xea1\\x0c\\x0e{\\x96\\x04<`~5\\xafN\\xab\\x85-\\x96\\xb3\\x15\\xbfTYDr\\xcb\\xdeA{{\\xf2M\\x14\\xfa\\x82a>\\xf6\\xfd\\x10\\xdd\\x95\\xdb\\x81#\\x10\\xcdW>\\xdb\\x1b\\x15\\x0c+\\x04\\xdb\\x0ck\\xe9\\x8cCJW\\x1au\\x0c|V\\xca:\\x10\\xca\\xec\\xb2\\xaczl\\xcb\\xb3\\xf9C\\x83\\xd4\\xbd\\xa5X\\xbf\\xd9\\xc3W}\\xdb\\xfa\\xf4r\\x87\\xde\\xc2\\xe5\\xe2\\xfaf\\xd4\\x0c\\x1d\\x10\\x17\\xe3\\xd0.@\\xbd;?\\xef\\x0b,\\xd6+I!A\\xb3\\xf8q\\x1dOp\\xc6.\\x81\\xb1\\x9c4o\\x17\\xc5\\xca\\x13\\xbfvM5G\\x18\\xd1\\xd8p{! \\xf0T\\x8e!x\\x06~\\x14~\\x93J\\xb9\\x92\\xc4`\\xca\\xfbM\\xeb\\xfb]d\\xb9\\x8d\\xeaED\\xf98\\x9f\\xc0\\x00\\x05j)9o;\\xd53\\r\\xc1\\x0c\\xb9\\x98?\\x9e}\\xfa\\x13\\xfa\\x04J7\\xd7\\xd6]\\xc2\\x13\\x19]\\xb9\\xad\\x01Qn\\\\\\xa8L\\xab\\x04V$\\xcc\\xc28f\\x85\\x01\\x0em2\\xf0\\xbd\\x01\\x07\\xd1x=\\x86fv[L6\\x17\\xf5L\\xa0\\x8b\\xef4-\\xe0e\\xb58\\xe3\\x89\\xa5\\xfa\\xb78\\xf3{\\xc0\\x8d\\x85\\xb8\\xb0f(\\x03/#\\xe1\\xbd\\x8a\\x02\\x1c;&=\\xfbC\\xedJGm_\\x82\\xc8\\xf5y\\xc5\\xbc=f\\r\\xa73\\xb2;\\xbf\\xfc\\x14B\\x17\\xca\\xe3\\xf5\\x14\\x93.\\xce\\xc8\\xf9\\x06}\\x11\\x96\\x06 \\x86\\x91%\\xefhk\\xd8\\xe0\\xb0\\x05\\xc9\\x8c\\xb5\\x93\\xaf\\xefb\\xf7\\x80\\xe9~\\xf4_\\xab\\xc6\\xf7\\xef\\xf6\\xad]\\xa3u\\x90\\xa8\\xbb\\x0368\\x10\\xab\\xf1\\xb2\\x13\\xbf\\x98\\xf2\\xa1:\\xd2&\\xc1%E\\xdd\\xdb\\xa3\\x147\\x14\\xb4\\x90\\x91}m\\x99l\\xa7)\\x9b\\x03\\xb8?\\x8cF*]\\x908\\xdc5D\\x8b\\x89\\xb7U\\xc9\\x08\\xfa\\xd3\\xb0\\t)ux\\xac\\x93\\x8a\\x05\\xb5+:b\\xea\\xd4\\x0c\\xba?\\x8e\\xdb\\xa8'\n",
      "[0.00390625 0.00488281 0.00195312 0.00292969 0.00488281 0.00488281\n",
      " 0.00488281 0.00488281 0.00585938 0.00390625 0.00195312 0.00585938\n",
      " 0.00878906 0.00390625 0.00488281 0.00292969 0.00683594 0.00292969\n",
      " 0.00097656 0.00585938 0.00585938 0.0078125  0.00195312 0.00585938\n",
      " 0.00292969 0.00195312 0.00488281 0.00390625 0.00195312 0.00390625\n",
      " 0.00292969 0.00195312 0.00390625 0.00488281 0.00292969 0.00390625\n",
      " 0.00195312 0.00292969 0.00585938 0.00097656 0.00390625 0.00683594\n",
      " 0.00390625 0.00488281 0.00195312 0.00488281 0.0078125  0.00195312\n",
      " 0.00292969 0.00292969 0.00292969 0.00292969 0.00585938 0.0078125\n",
      " 0.00585938 0.00683594 0.00976562 0.00390625 0.00390625 0.00585938\n",
      " 0.00292969 0.00878906 0.00585938 0.00390625 0.00683594 0.00292969\n",
      " 0.00292969 0.00292969 0.00390625 0.00585938 0.00195312 0.00292969\n",
      " 0.00585938 0.00683594 0.00488281 0.00390625 0.00488281 0.00390625\n",
      " 0.00390625 0.00195312 0.00488281 0.00195312 0.00390625 0.00195312\n",
      " 0.00097656 0.00488281 0.00585938 0.00195312 0.00195312 0.00292969\n",
      " 0.00390625 0.00195312 0.0078125  0.00195312 0.00585938 0.00488281\n",
      " 0.00488281 0.00292969 0.00097656 0.00195312 0.00195312 0.00878906\n",
      " 0.00097656 0.00390625 0.00292969 0.00292969 0.00390625 0.00390625\n",
      " 0.0078125  0.00195312 0.00292969 0.00488281 0.00488281 0.00292969\n",
      " 0.00097656 0.00195312 0.00585938 0.00585938 0.00390625 0.00390625\n",
      " 0.00292969 0.00683594 0.00195312 0.00585938 0.00683594 0.00195312\n",
      " 0.00292969 0.00195312 0.00292969 0.00390625 0.00195312 0.00390625\n",
      " 0.00292969 0.00195312 0.00292969 0.00292969 0.00292969 0.00390625\n",
      " 0.00390625 0.00390625 0.00683594 0.00390625 0.00585938 0.00585938\n",
      " 0.00488281 0.00488281 0.00292969 0.00292969 0.00390625 0.00585938\n",
      " 0.00488281 0.00292969 0.00097656 0.00585938 0.00390625 0.00585938\n",
      " 0.00195312 0.00683594 0.00390625 0.00292969 0.00097656 0.00292969\n",
      " 0.00195312 0.00292969 0.00292969 0.0078125  0.00097656 0.00097656\n",
      " 0.00488281 0.00390625 0.00195312 0.00488281 0.00195312 0.00683594\n",
      " 0.00195312 0.00488281 0.00585938 0.00390625 0.00488281 0.00097656\n",
      " 0.00292969 0.00585938 0.00585938 0.00195312 0.00292969 0.00195312\n",
      " 0.00488281 0.0078125  0.00488281 0.00292969 0.00390625 0.00292969\n",
      " 0.00390625 0.0078125  0.00292969 0.00390625 0.00585938 0.00292969\n",
      " 0.0078125  0.00195312 0.00488281 0.00390625 0.00195312 0.00195312\n",
      " 0.00195312 0.00195312 0.00390625 0.00390625 0.00488281 0.00488281\n",
      " 0.00292969 0.00390625 0.00390625 0.00488281 0.00585938 0.00097656\n",
      " 0.00292969 0.00390625 0.00097656 0.00390625 0.00292969 0.00292969\n",
      " 0.00585938 0.00390625 0.00195312 0.00195312 0.00292969 0.00195312\n",
      " 0.00683594 0.00878906 0.00390625 0.00195312 0.00292969 0.00195312\n",
      " 0.00683594 0.0078125  0.00195312 0.00195312 0.00488281 0.00488281\n",
      " 0.00585938 0.00488281 0.00292969 0.00195312 0.00488281 0.01171875\n",
      " 0.00585938 0.00097656 0.00488281 0.00390625 0.00097656]\n",
      "File Entropy: 7.8023 bits\n"
     ]
    }
   ],
   "source": [
    "\n",
    "def calculate_file_entropy(file_data):\n",
    "    \"\"\"Calculate Shannon entropy of a binary file.\"\"\"\n",
    "    byte_counts = np.bincount(np.frombuffer(file_data, dtype=np.uint8), minlength=256)\n",
    "    probabilities = byte_counts / len(file_data)\n",
    "    probabilities = probabilities[probabilities > 0]  # Filter non-zero probabilities\n",
    "    print( probabilities )\n",
    "    return -np.sum(probabilities * np.log2(probabilities))\n",
    "\n",
    "# Simulated binary file (random bytes)\n",
    "file_data = np.random.randint(0, 256, size=1024, dtype=np.uint8).tobytes()\n",
    "print( file_data )\n",
    "\n",
    "file_entropy = calculate_file_entropy(file_data)\n",
    "print(f\"File Entropy: {file_entropy:.4f} bits\")\n",
    "\n"
   ]
  },
  {
   "cell_type": "code",
   "execution_count": null,
   "id": "09791e49-559e-4ad1-a699-4fec8b62a63d",
   "metadata": {},
   "outputs": [],
   "source": []
  },
  {
   "cell_type": "code",
   "execution_count": null,
   "id": "dcd02f35-cc4d-4ff7-bb3e-1dc5c80ad136",
   "metadata": {},
   "outputs": [],
   "source": []
  },
  {
   "cell_type": "code",
   "execution_count": null,
   "id": "bbd76906-6f82-4943-bc77-586636d0d884",
   "metadata": {},
   "outputs": [],
   "source": []
  },
  {
   "cell_type": "code",
   "execution_count": null,
   "id": "277facd5-6746-4ea4-b1bb-585f66b385c6",
   "metadata": {},
   "outputs": [],
   "source": []
  },
  {
   "cell_type": "code",
   "execution_count": null,
   "id": "378fd632-7e08-494c-88fd-708ad15f5c9c",
   "metadata": {},
   "outputs": [],
   "source": []
  }
 ],
 "metadata": {
  "kernelspec": {
   "display_name": "Python 3 (ipykernel)",
   "language": "python",
   "name": "python3"
  },
  "language_info": {
   "codemirror_mode": {
    "name": "ipython",
    "version": 3
   },
   "file_extension": ".py",
   "mimetype": "text/x-python",
   "name": "python",
   "nbconvert_exporter": "python",
   "pygments_lexer": "ipython3",
   "version": "3.8.20"
  }
 },
 "nbformat": 4,
 "nbformat_minor": 5
}

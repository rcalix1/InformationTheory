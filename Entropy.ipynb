{
 "cells": [
  {
   "cell_type": "markdown",
   "id": "20b1914c",
   "metadata": {},
   "source": [
    "\n",
    "## Entropy\n",
    "\n",
    "* Calculates entropy for greyscale values in img of girl\n",
    "* The number of pixels with each greyscale are counted\n",
    "* These frequencies are used to plot a histogram and calculate the entropy\n",
    "\n",
    "Ref: JVStone Book\n",
    "\n"
   ]
  },
  {
   "cell_type": "markdown",
   "id": "49603920",
   "metadata": {},
   "source": [
    "\n",
    "## Concepts\n",
    "\n",
    "* Information is a well defined and measurable quantity.\n",
    "* Shannon's information theory describes precisely how much information can be communicated between different elements of a system.\n",
    "* it describes how signals and noise are related\n",
    "* data = signal + noise\n",
    "\n"
   ]
  },
  {
   "cell_type": "markdown",
   "id": "ad513ff2",
   "metadata": {},
   "source": [
    "\n",
    "## The bit\n",
    "\n",
    "* Information is usually measured in bits\n",
    "* One bit of information allows you to select between 2 equally probable alternatives\n",
    "* The bit gives 2 options (0 or 1). Selecting to walk left or right, eat or not, etc. represents 1 bit of information. It is all the information you have to decide which of the 2 options to select. That is one bit of information.\n",
    "* Three binary digits provide you with 3 bits of information. And represent 8 equally probable alternatives.\n",
    "\n",
    "$  \\large   2^3 = 8      $\n",
    "\n",
    "* One bit is the amount of information required to select between 2 equally probable alternatives.\n"
   ]
  },
  {
   "cell_type": "markdown",
   "id": "1a444be2",
   "metadata": {},
   "source": [
    "\n",
    "## Numbers\n",
    "\n",
    "* one hundred and one in decimal is 101\n",
    "\n",
    "* (1 x 100) + (0 x 10) + 1 (1 x 1) = 101 (decimal)\n",
    "\n",
    "and \n",
    "\n",
    "* five in binary is 101\n",
    "\n",
    "* $ \\large (1 x 2^2) + (0 x 2^1) + (1 x 2^0) = 5 $\n"
   ]
  },
  {
   "cell_type": "markdown",
   "id": "39cf057b",
   "metadata": {},
   "source": [
    "\n",
    "## Logarithms\n",
    "\n",
    "* $  \\large   2^3 = 8      $\n",
    "\n",
    "\n",
    "A more general way is:\n",
    "\n",
    "* $  \\large   2^n = m      $\n",
    "\n",
    "\n",
    "or \n",
    "\n",
    "* $  \\large    3  = log_2 8    $\n",
    "\n",
    "\n",
    "similarly \n",
    "\n",
    "* $  \\large    n  = log_2 m    $\n",
    "\n",
    "\n",
    "In general, the logarithm of m is the power to which 2 must be raised in order to obtain m \n",
    "\n",
    "So, if you have to select between 8 equally probable alternatives, then you need 3 bits of information, like so:\n",
    "\n",
    "\n",
    "* $  \\large    3 = log_2 8    $\n",
    "\n",
    "Concreteley,\n",
    "\n",
    "## Logarithms Interpretation (Option 1) \n",
    "\n",
    "if you need to select between $ \\large m $ equally probable alternatives, then you need $ \\large n $ bits of information, like so: \n",
    "\n",
    "* $  \\large    n  = log_2 m    $\n",
    "\n",
    "## Logarithms interpretation (Option 2) \n",
    "\n",
    "if you have $ \\large n $ bits of information, then you can select from  $ \\large m $ equally probable alternatives, like so: \n",
    "\n",
    "* $  \\large    m =  2^n    $\n"
   ]
  },
  {
   "cell_type": "markdown",
   "id": "40644ae6",
   "metadata": {},
   "source": [
    "\n",
    "## Libraries\n"
   ]
  },
  {
   "cell_type": "code",
   "execution_count": 46,
   "id": "95586cd3",
   "metadata": {},
   "outputs": [],
   "source": [
    "\n",
    "## !pip install matplotlib\n"
   ]
  },
  {
   "cell_type": "code",
   "execution_count": 47,
   "id": "81d72320",
   "metadata": {},
   "outputs": [],
   "source": [
    "\n",
    "from matplotlib import pyplot\n",
    "from PIL import Image\n",
    "\n",
    "\n",
    "from collections import Counter\n",
    "import math\n"
   ]
  },
  {
   "cell_type": "markdown",
   "id": "a13cf4e2",
   "metadata": {},
   "source": [
    "\n",
    "## More on Logarithms\n",
    "\n",
    "* The function\n"
   ]
  },
  {
   "cell_type": "code",
   "execution_count": 48,
   "id": "53c57de3",
   "metadata": {},
   "outputs": [],
   "source": [
    "\n",
    "def log2(posval):\n",
    " \n",
    "    result = math.log(posval, 2)\n",
    "\n",
    "    return result\n"
   ]
  },
  {
   "cell_type": "code",
   "execution_count": 49,
   "id": "558770c0",
   "metadata": {},
   "outputs": [
    {
     "name": "stdout",
     "output_type": "stream",
     "text": [
      "3.0\n"
     ]
    }
   ],
   "source": [
    "\n",
    "m = 8\n",
    "\n",
    "n = log2(m)\n",
    "\n",
    "print(n)\n",
    "\n"
   ]
  },
  {
   "cell_type": "code",
   "execution_count": 50,
   "id": "b7275a60",
   "metadata": {},
   "outputs": [
    {
     "name": "stdout",
     "output_type": "stream",
     "text": [
      "8.0\n"
     ]
    }
   ],
   "source": [
    "\n",
    "m = 3\n",
    "\n",
    "m = 2 ** n\n",
    "\n",
    "print(  m  )\n"
   ]
  },
  {
   "cell_type": "code",
   "execution_count": 51,
   "id": "fd2e2ea3",
   "metadata": {},
   "outputs": [],
   "source": [
    "\n",
    "## values into log must be positive and not zero\n",
    "\n",
    "x_data    = [i for i in range(1, 50)]\n",
    "\n",
    "log2_data = [ log2(i) for i in x_data ]\n",
    "\n"
   ]
  },
  {
   "cell_type": "code",
   "execution_count": 52,
   "id": "df771d3c",
   "metadata": {},
   "outputs": [
    {
     "data": {
      "image/png": "[encoded data removed]",
      "text/plain": [
       "<Figure size 640x480 with 1 Axes>"
      ]
     },
     "metadata": {},
     "output_type": "display_data"
    }
   ],
   "source": [
    "\n",
    "pyplot.plot(x_data , log2_data )\n",
    "\n",
    "pyplot.title(\"Log base 2\")\n",
    "pyplot.xlabel(\"m equaly probable alternatives\")\n",
    "pyplot.ylabel(\"n bits of information\")\n",
    "\n",
    "pyplot.show()\n"
   ]
  },
  {
   "cell_type": "markdown",
   "id": "64bd4d73",
   "metadata": {},
   "source": [
    "\n",
    "## Utility Functions\n"
   ]
  },
  {
   "cell_type": "code",
   "execution_count": 53,
   "id": "74513ee6",
   "metadata": {},
   "outputs": [],
   "source": [
    "\n",
    "\n",
    "def entropy_from_sample(distribution):\n",
    "    \"\"\"Arguments:\n",
    "            distribution:  iterable, a sample distribution\n",
    "        e.g     [1,2,5,2,2,1,4,4,2,2,2,2]\n",
    "                [\"A\",\"B\",\"C\",\"B\",\"B\",\"A\",\"D\",\"D\",\"B\",\"B\",\"B\",\"B\"]\n",
    "                [\"H\",\"T\",\"H\",\"T\",,\"H\",\"H\",\"H\",\"H\",\"H\"]\n",
    "       returns:\n",
    "            HX:  float, the entropy of the passed distribution\"\"\"\n",
    "\n",
    "    # Use Counter to count the occurrence of each different value in the\n",
    "    # distribution.  This returns a dict.  The values() method returns\n",
    "    # all the values of the dict, which for the Counter object is a list\n",
    "    # of frequencies.\n",
    "\n",
    "    counterdict = Counter(distribution)\n",
    "\n",
    "    frequencies = counterdict.values()\n",
    "\n",
    "    #\n",
    "    # Now we have a frequency distribution, we can find the entropy\n",
    "    #\n",
    "    HX = entropy_from_frequencies(frequencies)\n",
    "\n",
    "    return HX\n"
   ]
  },
  {
   "cell_type": "code",
   "execution_count": 54,
   "id": "8a23d08c",
   "metadata": {},
   "outputs": [],
   "source": [
    "\n",
    "def diff_entropy_from_frequencies(distribution, binsize):\n",
    "    \"\"\"Arguments:\n",
    "            distribution:  iterable, a frequency distribution\n",
    "            binsize: the binsize\n",
    "       returns:\n",
    "            HX:  float, the differential entropy of the passed distribution\n",
    "                with given binsize\"\"\"\n",
    "\n",
    "    # Eq. 5.18 P 116\n",
    "    HX = entropy_from_frequencies(distribution) - log2(1.0 / binsize)\n",
    "\n",
    "    return HX\n"
   ]
  },
  {
   "cell_type": "code",
   "execution_count": 55,
   "id": "a6d03d07",
   "metadata": {},
   "outputs": [],
   "source": [
    "\n",
    "def row_totals(distribution):\n",
    "    \"\"\"Arguments:\n",
    "            distribution:  a list of lists.  A 2D array.\n",
    "       returns:\n",
    "            totals:  list, the row totals of the passed distributizon\"\"\"\n",
    "\n",
    "    # Make a list of the sum of each row for each row in the distribution.\n",
    "\n",
    "    totals = [sum(row) for row in distribution]\n",
    "\n",
    "    return totals\n"
   ]
  },
  {
   "cell_type": "code",
   "execution_count": 56,
   "id": "d90459ef",
   "metadata": {},
   "outputs": [],
   "source": [
    "\n",
    "def col_totals(distribution):\n",
    "    \"\"\"Arguments:\n",
    "            distribution:  a list of lists.  A 2D array.\n",
    "       returns:\n",
    "            totals:  list, the column totals of the passed distribution\"\"\"\n",
    "\n",
    "    # Initialise the totals list\n",
    "    totals = []\n",
    "\n",
    "    # Loop for each column\n",
    "    for col in range(len(distribution[0])):\n",
    "\n",
    "        # Make a list of the values of column col of row\n",
    "        # for each row in distribution.\"\n",
    "        colvalues = [row[col] for row in distribution]\n",
    "\n",
    "        # Store the sum of the column values\n",
    "        totals.append(sum(colvalues))\n",
    "\n",
    "    return totals\n"
   ]
  },
  {
   "cell_type": "code",
   "execution_count": 57,
   "id": "c695c018",
   "metadata": {},
   "outputs": [],
   "source": [
    "\n",
    "def flatten(distribution):\n",
    "    \"\"\"Arguments:\n",
    "            distribution:  a list of lists.  A 2D array.\n",
    "       returns:\n",
    "            flatlist:  list, a 1D concatenation of the passed distribution\"\"\"\n",
    "\n",
    "    flatlist = []                      # Initialise a flatlist\n",
    "    for row in distribution:           # Loop for each row in the distribution\n",
    "        for col in row:                # Loop for each column in the row\n",
    "            flatlist.append(col)       # append the column value to flatlist\n",
    "\n",
    "    return flatlist\n"
   ]
  },
  {
   "cell_type": "code",
   "execution_count": 58,
   "id": "36428240",
   "metadata": {},
   "outputs": [],
   "source": [
    "\n",
    "def cumulative_gaussian(x, mu=0.0, sigma=1.0):\n",
    "    \"\"\"The cumulative Gaussian at x, for the distribution with mean mu and\n",
    "    standard deviation sigma.\n",
    "    Parameters\n",
    "    ----------\n",
    "    x : float or array\n",
    "       The values of x over which to evaluate the cumulative Gaussian function\n",
    "    mu : float\n",
    "       The mean parameter. Determines the x value at which the y value is 0.5\n",
    "    sigma : float\n",
    "       The variance parameter. Determines the slope of the curve at\n",
    "       the point of Deflection\n",
    "    Returns\n",
    "    -------\n",
    "    Notes\n",
    "    -----\n",
    "    Based on:\n",
    "    http://en.wikipedia.org/wiki/Normal_distribution\n",
    "                                    #Cumulative_distribution_function\"\"\"\n",
    "\n",
    "    t = x - mu\n",
    "    y = 0.5 * erfcc(-t / (sigma * math.sqrt(2.0)))\n",
    "\n",
    "    return min(y, 1.0)\n"
   ]
  },
  {
   "cell_type": "code",
   "execution_count": 59,
   "id": "08ec2ed7",
   "metadata": {},
   "outputs": [],
   "source": [
    "\n",
    "\n",
    "def erfcc(x):\n",
    "    \"\"\"Complementary error function.\"\"\"\n",
    "    z = abs(x)\n",
    "    t = 1.0 / (1.0 + 0.5 * z)\n",
    "    r = t * math.exp(-z * z - 1.26551223 + t * (1.00002368 + t * (.37409196 +\n",
    "        t * (0.09678418 + t * (-0.18628806 + t * (0.27886807 +\n",
    "        t * (-1.13520398 + t * (1.48851587 + t * (-0.82215223 +\n",
    "        t * 0.17087277)))))))))\n",
    "    if x >= 0.0:\n",
    "        return r\n",
    "    else:\n",
    "        return 2.0 - r\n"
   ]
  },
  {
   "cell_type": "markdown",
   "id": "1aa93224",
   "metadata": {},
   "source": [
    "\n",
    "## Calculate Entropy\n"
   ]
  },
  {
   "cell_type": "code",
   "execution_count": 60,
   "id": "9631b7a8",
   "metadata": {},
   "outputs": [],
   "source": [
    "\n",
    "# Open the image\n",
    "\n",
    "image = Image.open(\"girl.jpg\")\n"
   ]
  },
  {
   "cell_type": "code",
   "execution_count": 61,
   "id": "372edf2c",
   "metadata": {},
   "outputs": [
    {
     "data": {
      "text/plain": [
       "(344, 299)"
      ]
     },
     "execution_count": 61,
     "metadata": {},
     "output_type": "execute_result"
    }
   ],
   "source": [
    "\n",
    "image.size\n"
   ]
  },
  {
   "cell_type": "code",
   "execution_count": 62,
   "id": "6879bb80",
   "metadata": {},
   "outputs": [
    {
     "data": {
      "text/plain": [
       "(-0.5, 343.5, 298.5, -0.5)"
      ]
     },
     "execution_count": 62,
     "metadata": {},
     "output_type": "execute_result"
    },
    {
     "data": {
      "image/png": "[encoded data removed]",
      "text/plain": [
       "<Figure size 640x480 with 1 Axes>"
      ]
     },
     "metadata": {},
     "output_type": "display_data"
    }
   ],
   "source": [
    "\n",
    "    \n",
    "pyplot.figure(\"Girl\")\n",
    "pyplot.subplot(2, 2, 1)\n",
    "pyplot.imshow(image, cmap='gray')\n",
    "pyplot.axis('off')\n"
   ]
  },
  {
   "cell_type": "code",
   "execution_count": 63,
   "id": "3af892ff",
   "metadata": {},
   "outputs": [],
   "source": [
    "\n",
    "# Load all pixels as an iterable list\n",
    "pixels = image.getdata()\n"
   ]
  },
  {
   "cell_type": "code",
   "execution_count": 64,
   "id": "878872fe",
   "metadata": {},
   "outputs": [
    {
     "data": {
      "text/plain": [
       "<ImagingCore at 0x7fb0388cca30>"
      ]
     },
     "execution_count": 64,
     "metadata": {},
     "output_type": "execute_result"
    }
   ],
   "source": [
    "\n",
    "pixels\n"
   ]
  },
  {
   "cell_type": "code",
   "execution_count": 65,
   "id": "2fda67fa",
   "metadata": {},
   "outputs": [
    {
     "data": {
      "text/plain": [
       "[0,\n",
       " 0,\n",
       " 0,\n",
       " 0,\n",
       " 0,\n",
       " 0,\n",
       " 0,\n",
       " 0,\n",
       " 0,\n",
       " 0,\n",
       " 0,\n",
       " 0,\n",
       " 0,\n",
       " 0,\n",
       " 0,\n",
       " 0,\n",
       " 0,\n",
       " 0,\n",
       " 0,\n",
       " 0,\n",
       " 0,\n",
       " 0,\n",
       " 0,\n",
       " 0,\n",
       " 0,\n",
       " 0,\n",
       " 0,\n",
       " 0,\n",
       " 0,\n",
       " 0,\n",
       " 0,\n",
       " 0,\n",
       " 0,\n",
       " 0,\n",
       " 0,\n",
       " 0,\n",
       " 0,\n",
       " 0,\n",
       " 0,\n",
       " 0,\n",
       " 0,\n",
       " 0,\n",
       " 0,\n",
       " 0,\n",
       " 0,\n",
       " 0,\n",
       " 0,\n",
       " 0,\n",
       " 0,\n",
       " 0,\n",
       " 0,\n",
       " 0,\n",
       " 0,\n",
       " 0,\n",
       " 0,\n",
       " 0,\n",
       " 0,\n",
       " 0,\n",
       " 0,\n",
       " 0,\n",
       " 0,\n",
       " 0,\n",
       " 0,\n",
       " 0,\n",
       " 0,\n",
       " 0,\n",
       " 0,\n",
       " 0,\n",
       " 0,\n",
       " 0,\n",
       " 0,\n",
       " 0,\n",
       " 0,\n",
       " 0,\n",
       " 0,\n",
       " 0,\n",
       " 0,\n",
       " 0,\n",
       " 0,\n",
       " 0,\n",
       " 0,\n",
       " 0,\n",
       " 0,\n",
       " 0,\n",
       " 0,\n",
       " 0,\n",
       " 0,\n",
       " 0,\n",
       " 0,\n",
       " 0,\n",
       " 0,\n",
       " 0,\n",
       " 0,\n",
       " 0,\n",
       " 0,\n",
       " 0,\n",
       " 0,\n",
       " 0,\n",
       " 0,\n",
       " 0,\n",
       " 0,\n",
       " 0,\n",
       " 0,\n",
       " 0,\n",
       " 0,\n",
       " 0,\n",
       " 0,\n",
       " 0,\n",
       " 0,\n",
       " 0,\n",
       " 0,\n",
       " 0,\n",
       " 0,\n",
       " 0,\n",
       " 0,\n",
       " 0,\n",
       " 0,\n",
       " 0,\n",
       " 0,\n",
       " 0,\n",
       " 0,\n",
       " 0,\n",
       " 0,\n",
       " 0,\n",
       " 0,\n",
       " 0,\n",
       " 0,\n",
       " 0,\n",
       " 0,\n",
       " 0,\n",
       " 0,\n",
       " 0,\n",
       " 0,\n",
       " 0,\n",
       " 0,\n",
       " 0,\n",
       " 0,\n",
       " 0,\n",
       " 0,\n",
       " 0,\n",
       " 0,\n",
       " 0,\n",
       " 0,\n",
       " 0,\n",
       " 0,\n",
       " 0,\n",
       " 0,\n",
       " 0,\n",
       " 0,\n",
       " 0,\n",
       " 0,\n",
       " 0,\n",
       " 0,\n",
       " 0,\n",
       " 0,\n",
       " 0,\n",
       " 0,\n",
       " 0,\n",
       " 0,\n",
       " 0,\n",
       " 0,\n",
       " 0,\n",
       " 0,\n",
       " 0,\n",
       " 0,\n",
       " 0,\n",
       " 0,\n",
       " 0,\n",
       " 0,\n",
       " 0,\n",
       " 0,\n",
       " 0,\n",
       " 0,\n",
       " 0,\n",
       " 0,\n",
       " 0,\n",
       " 0,\n",
       " 0,\n",
       " 0,\n",
       " 0,\n",
       " 0,\n",
       " 0,\n",
       " 0,\n",
       " 0,\n",
       " 0,\n",
       " 0,\n",
       " 0,\n",
       " 0,\n",
       " 0,\n",
       " 0,\n",
       " 0,\n",
       " 0,\n",
       " 0,\n",
       " 0,\n",
       " 0,\n",
       " 0,\n",
       " 0,\n",
       " 0,\n",
       " 0,\n",
       " 0,\n",
       " 0,\n",
       " 0,\n",
       " 0,\n",
       " 0,\n",
       " 0,\n",
       " 0,\n",
       " 0,\n",
       " 0,\n",
       " 0,\n",
       " 0,\n",
       " 0,\n",
       " 0,\n",
       " 0,\n",
       " 0,\n",
       " 0,\n",
       " 0,\n",
       " 0,\n",
       " 0,\n",
       " 0,\n",
       " 0,\n",
       " 0,\n",
       " 0,\n",
       " 0,\n",
       " 0,\n",
       " 0,\n",
       " 0,\n",
       " 0,\n",
       " 0,\n",
       " 0,\n",
       " 0,\n",
       " 0,\n",
       " 0,\n",
       " 0,\n",
       " 0,\n",
       " 0,\n",
       " 0,\n",
       " 0,\n",
       " 0,\n",
       " 0,\n",
       " 0,\n",
       " 0,\n",
       " 0,\n",
       " 0,\n",
       " 0,\n",
       " 0,\n",
       " 0,\n",
       " 0,\n",
       " 0,\n",
       " 0,\n",
       " 0,\n",
       " 0,\n",
       " 0,\n",
       " 0,\n",
       " 0,\n",
       " 0,\n",
       " 0]"
      ]
     },
     "execution_count": 65,
     "metadata": {},
     "output_type": "execute_result"
    }
   ],
   "source": [
    "\n",
    "# Zero our frequency list\n",
    "\n",
    "frequencies = [0] * 256\n",
    "\n",
    "frequencies\n"
   ]
  },
  {
   "cell_type": "code",
   "execution_count": 66,
   "id": "a50d5049",
   "metadata": {},
   "outputs": [
    {
     "data": {
      "text/plain": [
       "256"
      ]
     },
     "execution_count": 66,
     "metadata": {},
     "output_type": "execute_result"
    }
   ],
   "source": [
    "\n",
    "len(frequencies)\n"
   ]
  },
  {
   "cell_type": "code",
   "execution_count": 67,
   "id": "92dc0641",
   "metadata": {},
   "outputs": [],
   "source": [
    "\n",
    "# Loop over all pixels, incrementing the frequency for each greyscale\n",
    "# value found\n",
    "\n",
    "for pixel in pixels:\n",
    "    frequencies[pixel] += 1\n"
   ]
  },
  {
   "cell_type": "code",
   "execution_count": 68,
   "id": "e825124d",
   "metadata": {
    "scrolled": false
   },
   "outputs": [
    {
     "data": {
      "text/plain": [
       "[3,\n",
       " 11,\n",
       " 14,\n",
       " 30,\n",
       " 43,\n",
       " 67,\n",
       " 74,\n",
       " 87,\n",
       " 103,\n",
       " 108,\n",
       " 138,\n",
       " 135,\n",
       " 128,\n",
       " 171,\n",
       " 166,\n",
       " 216,\n",
       " 208,\n",
       " 202,\n",
       " 243,\n",
       " 266,\n",
       " 279,\n",
       " 312,\n",
       " 344,\n",
       " 372,\n",
       " 445,\n",
       " 441,\n",
       " 551,\n",
       " 592,\n",
       " 616,\n",
       " 603,\n",
       " 599,\n",
       " 591,\n",
       " 584,\n",
       " 573,\n",
       " 595,\n",
       " 593,\n",
       " 608,\n",
       " 607,\n",
       " 559,\n",
       " 554,\n",
       " 553,\n",
       " 559,\n",
       " 631,\n",
       " 682,\n",
       " 657,\n",
       " 663,\n",
       " 727,\n",
       " 651,\n",
       " 659,\n",
       " 610,\n",
       " 642,\n",
       " 673,\n",
       " 691,\n",
       " 659,\n",
       " 692,\n",
       " 692,\n",
       " 695,\n",
       " 728,\n",
       " 658,\n",
       " 698,\n",
       " 717,\n",
       " 693,\n",
       " 636,\n",
       " 644,\n",
       " 659,\n",
       " 607,\n",
       " 603,\n",
       " 653,\n",
       " 646,\n",
       " 645,\n",
       " 667,\n",
       " 623,\n",
       " 674,\n",
       " 689,\n",
       " 625,\n",
       " 618,\n",
       " 652,\n",
       " 654,\n",
       " 613,\n",
       " 625,\n",
       " 632,\n",
       " 660,\n",
       " 633,\n",
       " 593,\n",
       " 636,\n",
       " 637,\n",
       " 588,\n",
       " 578,\n",
       " 590,\n",
       " 539,\n",
       " 577,\n",
       " 612,\n",
       " 636,\n",
       " 589,\n",
       " 623,\n",
       " 559,\n",
       " 611,\n",
       " 608,\n",
       " 610,\n",
       " 572,\n",
       " 611,\n",
       " 561,\n",
       " 565,\n",
       " 522,\n",
       " 548,\n",
       " 522,\n",
       " 509,\n",
       " 526,\n",
       " 477,\n",
       " 483,\n",
       " 491,\n",
       " 524,\n",
       " 478,\n",
       " 486,\n",
       " 484,\n",
       " 485,\n",
       " 500,\n",
       " 518,\n",
       " 465,\n",
       " 449,\n",
       " 485,\n",
       " 480,\n",
       " 498,\n",
       " 476,\n",
       " 498,\n",
       " 461,\n",
       " 463,\n",
       " 424,\n",
       " 420,\n",
       " 423,\n",
       " 461,\n",
       " 445,\n",
       " 422,\n",
       " 443,\n",
       " 461,\n",
       " 419,\n",
       " 445,\n",
       " 431,\n",
       " 426,\n",
       " 380,\n",
       " 418,\n",
       " 363,\n",
       " 402,\n",
       " 402,\n",
       " 371,\n",
       " 376,\n",
       " 391,\n",
       " 372,\n",
       " 367,\n",
       " 324,\n",
       " 402,\n",
       " 365,\n",
       " 363,\n",
       " 350,\n",
       " 399,\n",
       " 395,\n",
       " 357,\n",
       " 375,\n",
       " 347,\n",
       " 335,\n",
       " 312,\n",
       " 330,\n",
       " 335,\n",
       " 315,\n",
       " 321,\n",
       " 306,\n",
       " 316,\n",
       " 333,\n",
       " 295,\n",
       " 316,\n",
       " 306,\n",
       " 294,\n",
       " 309,\n",
       " 292,\n",
       " 298,\n",
       " 291,\n",
       " 282,\n",
       " 280,\n",
       " 293,\n",
       " 311,\n",
       " 260,\n",
       " 278,\n",
       " 298,\n",
       " 275,\n",
       " 308,\n",
       " 299,\n",
       " 336,\n",
       " 299,\n",
       " 308,\n",
       " 313,\n",
       " 324,\n",
       " 284,\n",
       " 284,\n",
       " 299,\n",
       " 320,\n",
       " 304,\n",
       " 321,\n",
       " 322,\n",
       " 308,\n",
       " 312,\n",
       " 314,\n",
       " 323,\n",
       " 307,\n",
       " 259,\n",
       " 262,\n",
       " 276,\n",
       " 263,\n",
       " 289,\n",
       " 287,\n",
       " 243,\n",
       " 282,\n",
       " 281,\n",
       " 249,\n",
       " 239,\n",
       " 228,\n",
       " 193,\n",
       " 196,\n",
       " 183,\n",
       " 138,\n",
       " 168,\n",
       " 155,\n",
       " 139,\n",
       " 158,\n",
       " 182,\n",
       " 154,\n",
       " 181,\n",
       " 169,\n",
       " 188,\n",
       " 220,\n",
       " 180,\n",
       " 207,\n",
       " 194,\n",
       " 222,\n",
       " 206,\n",
       " 201,\n",
       " 204,\n",
       " 188,\n",
       " 237,\n",
       " 233,\n",
       " 214,\n",
       " 219,\n",
       " 217,\n",
       " 207,\n",
       " 208,\n",
       " 179,\n",
       " 172,\n",
       " 175,\n",
       " 187,\n",
       " 199,\n",
       " 208,\n",
       " 215,\n",
       " 240,\n",
       " 242,\n",
       " 293,\n",
       " 348,\n",
       " 832]"
      ]
     },
     "execution_count": 68,
     "metadata": {},
     "output_type": "execute_result"
    }
   ],
   "source": [
    "\n",
    "frequencies\n"
   ]
  },
  {
   "cell_type": "code",
   "execution_count": 69,
   "id": "1eea7e59",
   "metadata": {},
   "outputs": [],
   "source": [
    "\n",
    "##  Arguments: posval:  a postive number\n",
    "## returns: result:  float, base 2 log of posval\n",
    "\n",
    "\n",
    "def log2(posval):\n",
    " \n",
    "    result = math.log(posval, 2)\n",
    "\n",
    "    return result\n",
    "\n"
   ]
  },
  {
   "cell_type": "code",
   "execution_count": 70,
   "id": "74a526b2",
   "metadata": {},
   "outputs": [],
   "source": [
    "\n",
    "##    Arguments: num:  the number to round\n",
    "## decimal_p: integer, the number of decimal places\n",
    "## returns:  result, string x rounded to p sig figs. \n",
    "\n",
    "def strrounddp(num, decimal_p):\n",
    "\n",
    "\n",
    "    if num == \"\":\n",
    "        result = \"0.\" + \"0\" * decimal_p\n",
    "    else:\n",
    "        fmt = \"%.\" + str(decimal_p) + \"f\"\n",
    "        result = fmt % round(float(num), decimal_p)\n",
    "\n",
    "    return result\n"
   ]
  },
  {
   "cell_type": "code",
   "execution_count": 71,
   "id": "7b0194ca",
   "metadata": {},
   "outputs": [],
   "source": [
    "\n",
    "## Arguments - > distribution:  a list of probabilities.\n",
    "## returns: -> probabilities, list of valid probabilities. It removes zero values.\n",
    "## All values should be positive.  The sum of the\n",
    "## probabilities should be equal to 1.0 to 2 decimal places.\n",
    "\n",
    "def valid_probabilities(distribution):\n",
    "  \n",
    "\n",
    "    # Check the probabilities sum to 1.00 to 2 decimal places\n",
    "    \n",
    "    if round(sum(distribution), 2) != 1.0:\n",
    "        raise ValueError('Probabilities do not sum to 1')\n",
    "\n",
    "    # Check we have no negative values\n",
    "    if min(distribution) < 0:\n",
    "        raise ValueError('Negative probability')\n",
    "\n",
    "    # Make a list of the probabilities in distribution where\n",
    "    # the probability is greater than zero\n",
    "    probabilities = [p for p in distribution if p > 0]\n",
    "\n",
    "    return probabilities\n"
   ]
  },
  {
   "cell_type": "code",
   "execution_count": 72,
   "id": "1ce55e46",
   "metadata": {},
   "outputs": [],
   "source": [
    "\n",
    "##   Arguments:\n",
    "## probabilities:  iterable, a probability distribution\n",
    "## returns:\n",
    "## HX:  float, the entropy of the passed distribution\"\"\"\n",
    "\n",
    "\n",
    "def entropy_from_probabilities(probabilities):\n",
    " \n",
    "\n",
    "    # Check we have a valid list of probabilities\n",
    "    probabilities = valid_probabilities(probabilities)\n",
    "\n",
    "    # Set entropy count to zero\n",
    "    HX = 0\n",
    "\n",
    "    # Loop over all probabilities and sum the entropy from each (Eq 2.52 P37)\n",
    "    for px in probabilities:\n",
    "        HX = HX + px * log2(1.0/px)\n",
    "\n",
    "    return HX\n"
   ]
  },
  {
   "cell_type": "code",
   "execution_count": 73,
   "id": "44b63d61",
   "metadata": {},
   "outputs": [],
   "source": [
    "\n",
    "## Input -> frequencies:  iterable, a frequency distribution\n",
    "## output =>         HX:  float,    the entropy of the passed distribution\n",
    "\n",
    "def entropy_from_frequencies(frequencies):\n",
    "\n",
    "    # Transform the frequencies to probabilities. The probability of\n",
    "    # an event is its frequency divided by the sum of all frequencies.\n",
    "\n",
    "    sum_of_frequencies = sum(frequencies)\n",
    "\n",
    "    # Make a list of : the probabilty for each frequency in the\n",
    "    # list of frequencies.\n",
    "\n",
    "    probabilities = [freq / float(sum_of_frequencies) for freq in frequencies]\n",
    "\n",
    "    #\n",
    "    # Now we have a probability distribution, we can find the entropy\n",
    "    #\n",
    "    HX = entropy_from_probabilities(probabilities)\n",
    "\n",
    "    return HX\n"
   ]
  },
  {
   "cell_type": "code",
   "execution_count": 74,
   "id": "70a6f18c",
   "metadata": {},
   "outputs": [],
   "source": [
    "\n",
    "\n",
    "# Use these frequencies to calculate an entropy\n",
    "\n",
    "HX = entropy_from_frequencies( frequencies )\n",
    "\n"
   ]
  },
  {
   "cell_type": "code",
   "execution_count": 75,
   "id": "665a020e",
   "metadata": {},
   "outputs": [
    {
     "data": {
      "text/plain": [
       "7.837654799168986"
      ]
     },
     "execution_count": 75,
     "metadata": {},
     "output_type": "execute_result"
    }
   ],
   "source": [
    "\n",
    "HX\n"
   ]
  },
  {
   "cell_type": "code",
   "execution_count": 76,
   "id": "959c8434",
   "metadata": {},
   "outputs": [
    {
     "data": {
      "image/png": "[encoded data removed]",
      "text/plain": [
       "<Figure size 640x480 with 1 Axes>"
      ]
     },
     "metadata": {},
     "output_type": "display_data"
    }
   ],
   "source": [
    "\n",
    "\n",
    "# plot all the points\n",
    "\n",
    "pyplot.subplot(2, 2, 2)\n",
    "\n",
    "# make vector of 256 grey-level values\n",
    "\n",
    "x = range(256)\n",
    "\n",
    "pyplot.plot(x, frequencies)\n",
    "\n",
    "# Set title with entropy rounded to 3 sigfigs & label the axes\n",
    "\n",
    "pyplot.title(\"Entropy = \" + strrounddp(HX, 3) + \" bits\")\n",
    "pyplot.xlabel(\"Grey-level\")\n",
    "pyplot.ylabel(\"Frequency\")\n",
    "\n",
    "# Truncate x axis at max value of greyscale\n",
    "pyplot.xlim([0, len(frequencies)])\n",
    "\n",
    "# Display the image & graph\n",
    "pyplot.show()\n"
   ]
  },
  {
   "cell_type": "markdown",
   "id": "a565956a",
   "metadata": {},
   "source": [
    "\n",
    "## The convolved image\n",
    "\n",
    "* reads the image and then calculates the convolved image \n",
    "* and plots the frequencies of the grey level differences between adjacent pixels \n",
    "* and calculates an entropy for this convolved image\n"
   ]
  },
  {
   "cell_type": "code",
   "execution_count": 77,
   "id": "e3f441e2",
   "metadata": {},
   "outputs": [],
   "source": [
    "\n",
    "# Open the image\n",
    "image = Image.open(\"girl.jpg\")\n"
   ]
  },
  {
   "cell_type": "code",
   "execution_count": 78,
   "id": "190e4e0a",
   "metadata": {},
   "outputs": [
    {
     "data": {
      "text/plain": [
       "(-0.5, 343.5, 298.5, -0.5)"
      ]
     },
     "execution_count": 78,
     "metadata": {},
     "output_type": "execute_result"
    },
    {
     "data": {
      "image/png": "[encoded data removed]",
      "text/plain": [
       "<Figure size 640x480 with 1 Axes>"
      ]
     },
     "metadata": {},
     "output_type": "display_data"
    }
   ],
   "source": [
    "\n",
    "\n",
    "\n",
    "\n",
    "pyplot.figure(\"girl\")\n",
    "\n",
    "# Plot the original image\n",
    "pyplot.subplot(2, 2, 1)\n",
    "pyplot.title(\"Original Image\")\n",
    "pyplot.imshow(image, cmap='gray')\n",
    "pyplot.axis('off')\n"
   ]
  },
  {
   "cell_type": "code",
   "execution_count": 79,
   "id": "2b78c951",
   "metadata": {},
   "outputs": [],
   "source": [
    "\n",
    "# Get image size\n",
    "xsize, ysize = image.size\n"
   ]
  },
  {
   "cell_type": "code",
   "execution_count": 80,
   "id": "cd1b25bc",
   "metadata": {},
   "outputs": [
    {
     "data": {
      "text/plain": [
       "(344, 299)"
      ]
     },
     "execution_count": 80,
     "metadata": {},
     "output_type": "execute_result"
    }
   ],
   "source": [
    "\n",
    "xsize, ysize\n"
   ]
  },
  {
   "cell_type": "code",
   "execution_count": 81,
   "id": "f55aede1",
   "metadata": {},
   "outputs": [],
   "source": [
    "\n",
    "\n",
    "\n",
    "\n",
    "# Zero our frequency list\n",
    "frequencies = [0] * 511\n",
    "\n",
    "\n"
   ]
  },
  {
   "cell_type": "code",
   "execution_count": 82,
   "id": "d7a3fd0c",
   "metadata": {},
   "outputs": [],
   "source": [
    " \n",
    "# Load pixels\n",
    "\n",
    "pixels = image.load()\n"
   ]
  },
  {
   "cell_type": "code",
   "execution_count": 83,
   "id": "c724e2d4",
   "metadata": {},
   "outputs": [],
   "source": [
    "\n",
    "    \n",
    "# Loop over all pixels, incrementing the frequency for each greyscale\n",
    "# value found.\n",
    "# As we loop we will make the convolved image by updating the pixel\n",
    "# just visited with the greyscale difference\n",
    "    \n",
    "for row in range(0, ysize):\n",
    "    for col in range(0, xsize - 1):\n",
    "        diff = pixels[col + 1, row] - pixels[col, row]\n",
    "        frequencies[diff+255] += 1\n",
    "        # Change the pixel held to be the difference\n",
    "        pixels[col, row] = diff + 127\n",
    "    pixels[xsize - 1, row] = 0\n",
    "\n",
    " \n"
   ]
  },
  {
   "cell_type": "code",
   "execution_count": 84,
   "id": "ca2c4255",
   "metadata": {},
   "outputs": [
    {
     "data": {
      "text/plain": [
       "(-0.5, 343.5, 298.5, -0.5)"
      ]
     },
     "execution_count": 84,
     "metadata": {},
     "output_type": "execute_result"
    },
    {
     "data": {
      "image/png": "[encoded data removed]",
      "text/plain": [
       "<Figure size 640x480 with 1 Axes>"
      ]
     },
     "metadata": {},
     "output_type": "display_data"
    }
   ],
   "source": [
    "\n",
    "# Plot the convolved image\n",
    "\n",
    "pyplot.subplot(2, 2, 2)\n",
    "pyplot.title(\"Convolved Image\")\n",
    "pyplot.imshow(image, cmap='gray')\n",
    "pyplot.axis('off')\n"
   ]
  },
  {
   "cell_type": "code",
   "execution_count": 85,
   "id": "404aa8d9",
   "metadata": {},
   "outputs": [],
   "source": [
    "\n",
    "# Use these frequencies to calculate an entropy\n",
    "\n",
    "HX = entropy_from_frequencies(frequencies)\n"
   ]
  },
  {
   "cell_type": "code",
   "execution_count": 86,
   "id": "d5478be0",
   "metadata": {},
   "outputs": [
    {
     "data": {
      "text/plain": [
       "511"
      ]
     },
     "execution_count": 86,
     "metadata": {},
     "output_type": "execute_result"
    }
   ],
   "source": [
    "\n",
    "len(frequencies)\n"
   ]
  },
  {
   "cell_type": "code",
   "execution_count": 88,
   "id": "a75bb4bd",
   "metadata": {},
   "outputs": [
    {
     "data": {
      "image/png": "[encoded data removed]",
      "text/plain": [
       "<Figure size 640x480 with 1 Axes>"
      ]
     },
     "metadata": {},
     "output_type": "display_data"
    }
   ],
   "source": [
    "\n",
    "# Plot the grey level differences\n",
    "\n",
    "pyplot.subplot(2, 2, 3)\n",
    "\n",
    "# The greyscale differences can vary between -255 and 256.\n",
    "# Create a list of these numbers : -255, -254, ..., 255, 256\n",
    "\n",
    "diffs = range(-255, 256)\n",
    "\n",
    "pyplot.plot(diffs, frequencies)\n",
    "\n",
    "# Set title with rounded HX & axes labels\n",
    "\n",
    "pyplot.title(\"Entropy = \" + strrounddp(HX, 3) + \" bits\")\n",
    "pyplot.xlabel(\"Grey-level difference\")\n",
    "pyplot.ylabel(\"Frequency\")\n",
    "\n",
    "# Truncate x axis at +/- 63\n",
    "\n",
    "pyplot.xlim([-63, 63])\n",
    "\n",
    "# Display the graphic\n",
    "\n",
    "pyplot.show()\n"
   ]
  },
  {
   "cell_type": "markdown",
   "id": "f9af2a9c",
   "metadata": {},
   "source": [
    "\n",
    "## Telegraphy Example\n",
    "\n",
    "* Morse code (from JVStone book)\n",
    "\n",
    "## FTC and Amazon Disclaimer \n",
    "\n",
    "This post/page/article includes Amazon Affiliate links to products. This site receives income if you purchase through these links. This income helps support content such as this one.\n",
    "\n",
    "\n",
    "\n",
    "<a href=\"https://www.amazon.com/Information-Theory-Introduction-James-Stone/dp/0956372856?&linkCode=li2&tag=rcalix00-20&linkId=797f3ad06c7f8207207bd001733267d3&language=en_US&ref_=as_li_ss_il\" target=\"_blank\"><img border=\"0\" src=\"//ws-na.amazon-adsystem.com/widgets/q?_encoding=UTF8&ASIN=0956372856&Format=_SL160_&ID=AsinImage&MarketPlace=US&ServiceVersion=20070822&WS=1&tag=rcalix00-20&language=en_US\" ></a><img src=\"https://ir-na.amazon-adsystem.com/e/ir?t=rcalix00-20&language=en_US&l=li2&o=1&a=0956372856\" width=\"1\" height=\"1\" border=\"0\" alt=\"\" style=\"border:none !important; margin:0px !important;\" />\n",
    "\n",
    "\n",
    "![morse](morse_code.jpg)\n"
   ]
  },
  {
   "cell_type": "code",
   "execution_count": null,
   "id": "39ebd9ca",
   "metadata": {},
   "outputs": [],
   "source": [
    "\n",
    "\n"
   ]
  },
  {
   "cell_type": "code",
   "execution_count": null,
   "id": "f1a1eaa0",
   "metadata": {},
   "outputs": [],
   "source": []
  },
  {
   "cell_type": "code",
   "execution_count": null,
   "id": "eb343acf",
   "metadata": {},
   "outputs": [],
   "source": []
  },
  {
   "cell_type": "code",
   "execution_count": null,
   "id": "d75cc4a1",
   "metadata": {},
   "outputs": [],
   "source": []
  },
  {
   "cell_type": "code",
   "execution_count": null,
   "id": "0a4961a3",
   "metadata": {},
   "outputs": [],
   "source": []
  },
  {
   "cell_type": "code",
   "execution_count": null,
   "id": "fb132411",
   "metadata": {},
   "outputs": [],
   "source": []
  },
  {
   "cell_type": "code",
   "execution_count": null,
   "id": "9bbbfd25",
   "metadata": {},
   "outputs": [],
   "source": []
  },
  {
   "cell_type": "code",
   "execution_count": null,
   "id": "0722804f",
   "metadata": {},
   "outputs": [],
   "source": []
  },
  {
   "cell_type": "code",
   "execution_count": null,
   "id": "b3093a3a",
   "metadata": {},
   "outputs": [],
   "source": []
  },
  {
   "cell_type": "code",
   "execution_count": null,
   "id": "dfea32b7",
   "metadata": {},
   "outputs": [],
   "source": []
  },
  {
   "cell_type": "code",
   "execution_count": null,
   "id": "61eed0d9",
   "metadata": {},
   "outputs": [],
   "source": []
  }
 ],
 "metadata": {
  "kernelspec": {
   "display_name": "Python 3 (ipykernel)",
   "language": "python",
   "name": "python3"
  },
  "language_info": {
   "codemirror_mode": {
    "name": "ipython",
    "version": 3
   },
   "file_extension": ".py",
   "mimetype": "text/x-python",
   "name": "python",
   "nbconvert_exporter": "python",
   "pygments_lexer": "ipython3",
   "version": "3.7.16"
  }
 },
 "nbformat": 4,
 "nbformat_minor": 5
}

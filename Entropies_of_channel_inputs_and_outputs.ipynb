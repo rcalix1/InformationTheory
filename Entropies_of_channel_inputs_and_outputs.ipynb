{
 "cells": [
  {
   "cell_type": "markdown",
   "id": "506ea5e4",
   "metadata": {},
   "source": [
    "\n",
    "## Summary: Calculates entropy of channel inputs and outputs \n"
   ]
  },
  {
   "cell_type": "code",
   "execution_count": 22,
   "id": "46267591",
   "metadata": {},
   "outputs": [
    {
     "data": {
      "text/plain": [
       "'\\n    \\n    Table - frequencies\\n\\n12   15   2    0    |29\\n4    21   10   0    |35\\n0    10   21   4    |35\\n0    2    15   12   |29\\n------------------------\\n16   48   48   16   |128\\n\\n'"
      ]
     },
     "execution_count": 22,
     "metadata": {},
     "output_type": "execute_result"
    }
   ],
   "source": [
    "\n",
    "## Output:\n",
    "\n",
    "'''\n",
    "    \n",
    "    Table - frequencies\n",
    "\n",
    "12   15   2    0    |29\n",
    "4    21   10   0    |35\n",
    "0    10   21   4    |35\n",
    "0    2    15   12   |29\n",
    "------------------------\n",
    "16   48   48   16   |128\n",
    "\n",
    "'''\n"
   ]
  },
  {
   "cell_type": "code",
   "execution_count": 23,
   "id": "3e29ac93",
   "metadata": {},
   "outputs": [
    {
     "data": {
      "text/plain": [
       "'\\n\\nHX     = 1.811 bits\\nHY     = 1.994 bits\\nHXY    = 3.296 bits\\nHX+HY  = 3.805 bits\\nI(X,Y) = 0.509 bits\\nH(Y|X) = 1.484 bits\\n\\n\\n'"
      ]
     },
     "execution_count": 23,
     "metadata": {},
     "output_type": "execute_result"
    }
   ],
   "source": [
    "\n",
    "'''\n",
    "\n",
    "HX     = 1.811 bits\n",
    "HY     = 1.994 bits\n",
    "HXY    = 3.296 bits\n",
    "HX+HY  = 3.805 bits\n",
    "I(X,Y) = 0.509 bits\n",
    "H(Y|X) = 1.484 bits\n",
    "\n",
    "\n",
    "'''\n"
   ]
  },
  {
   "cell_type": "code",
   "execution_count": 24,
   "id": "8947e5d3",
   "metadata": {},
   "outputs": [],
   "source": [
    "\n",
    "def col_totals(distribution):\n",
    "    \"\"\"Arguments:\n",
    "            distribution:  a list of lists.  A 2D array.\n",
    "       returns:\n",
    "            totals:  list, the column totals of the passed distribution\"\"\"\n",
    "\n",
    "    # Initialise the totals list\n",
    "    totals = []\n",
    "\n",
    "    # Loop for each column\n",
    "    for col in range(len(distribution[0])):\n",
    "\n",
    "        # Make a list of the values of column col of row\n",
    "        # for each row in distribution.\"\n",
    "        colvalues = [row[col] for row in distribution]\n",
    "\n",
    "        # Store the sum of the column values\n",
    "        totals.append(sum(colvalues))\n",
    "\n",
    "    return totals\n"
   ]
  },
  {
   "cell_type": "code",
   "execution_count": 25,
   "id": "13d145b9",
   "metadata": {},
   "outputs": [],
   "source": [
    "\n",
    "def row_totals(distribution):\n",
    "    \"\"\"Arguments:\n",
    "            distribution:  a list of lists.  A 2D array.\n",
    "       returns:\n",
    "            totals:  list, the row totals of the passed distributizon\"\"\"\n",
    "\n",
    "    # Make a list of the sum of each row for each row in the distribution.\n",
    "\n",
    "    totals = [sum(row) for row in distribution]\n",
    "\n",
    "    return totals\n",
    "\n"
   ]
  },
  {
   "cell_type": "code",
   "execution_count": 26,
   "id": "96b52167",
   "metadata": {},
   "outputs": [],
   "source": [
    "\n",
    "def flatten(distribution):\n",
    "    \"\"\"Arguments:\n",
    "            distribution:  a list of lists.  A 2D array.\n",
    "       returns:\n",
    "            flatlist:  list, a 1D concatenation of the passed distribution\"\"\"\n",
    "\n",
    "    flatlist = []                      # Initialise a flatlist\n",
    "    for row in distribution:           # Loop for each row in the distribution\n",
    "        for col in row:                # Loop for each column in the row\n",
    "            flatlist.append(col)       # append the column value to flatlist\n",
    "\n",
    "    return flatlist\n"
   ]
  },
  {
   "cell_type": "code",
   "execution_count": 27,
   "id": "eced61ce",
   "metadata": {},
   "outputs": [],
   "source": [
    "\n",
    "def log2(posval):\n",
    "    \"\"\"Arguments:\n",
    "            posval:  a postive number\n",
    "       returns:\n",
    "            result:  float, base 2 log of posval\"\"\"\n",
    "\n",
    "    result = math.log(posval, 2)\n",
    "\n",
    "    return result\n"
   ]
  },
  {
   "cell_type": "code",
   "execution_count": 28,
   "id": "eec3903b",
   "metadata": {},
   "outputs": [],
   "source": [
    "\n",
    "def entropy_from_probabilities(probabilities):\n",
    "    \"\"\"Arguments:\n",
    "            probabilities:  iterable, a probability distribution\n",
    "       returns:\n",
    "            HX:  float, the entropy of the passed distribution\"\"\"\n",
    "\n",
    "    # Check we have a valid list of probabilities\n",
    "    probabilities = valid_probabilities(probabilities)\n",
    "\n",
    "    # Set entropy count to zero\n",
    "    HX = 0\n",
    "\n",
    "    # Loop over all probabilities and sum the entropy from each (Eq 2.52 P37)\n",
    "    for px in probabilities:\n",
    "        HX = HX + px * log2(1.0/px)\n",
    "\n",
    "    return HX\n"
   ]
  },
  {
   "cell_type": "code",
   "execution_count": 29,
   "id": "d12f61be",
   "metadata": {},
   "outputs": [],
   "source": [
    "\n",
    "def entropy_from_frequencies(frequencies):\n",
    "    \"\"\"Arguments:\n",
    "            frequencies:  iterable, a frequency distribution\n",
    "       returns:\n",
    "            HX:  float, the entropy of the passed distribution\"\"\"\n",
    "\n",
    "    # Transform the frequencies to probabilities. The probability of\n",
    "    # an event is its frequency divided by the sum of all frequencies.\n",
    "\n",
    "    sum_of_frequencies = sum(frequencies)\n",
    "\n",
    "    # Make a list of : the probabilty for each frequency in the\n",
    "    # list of frequencies.\n",
    "\n",
    "    probabilities = [freq / float(sum_of_frequencies) for freq in frequencies]\n",
    "\n",
    "    #\n",
    "    # Now we have a probability distribution, we can find the entropy\n",
    "    #\n",
    "    HX = entropy_from_probabilities(probabilities)\n",
    "\n",
    "    return HX\n"
   ]
  },
  {
   "cell_type": "code",
   "execution_count": 30,
   "id": "9ba9459d",
   "metadata": {},
   "outputs": [],
   "source": [
    "\n",
    "def valid_probabilities(distribution):\n",
    "    \"\"\"Arguments:\n",
    "            distribution:  a list of probabilities.\n",
    "       returns:\n",
    "            probabilities, list of valid probabilities. It removes zero values.\n",
    "\n",
    "    All values should be positive.  The sum of the\n",
    "    probabilities should be equal to 1.0 to 2 decimal places. \"\"\"\n",
    "\n",
    "    # Check the probabilities sum to 1.00 to 2 decimal places\n",
    "    if round(sum(distribution), 2) != 1.0:\n",
    "        raise ValueError('Probabilities do not sum to 1')\n",
    "\n",
    "    # Check we have no negative values\n",
    "    if min(distribution) < 0:\n",
    "        raise ValueError('Negative probability')\n",
    "\n",
    "    # Make a list of the probabilities in distribution where\n",
    "    # the probability is greater than zero\n",
    "    probabilities = [p for p in distribution if p > 0]\n",
    "\n",
    "    return probabilities\n"
   ]
  },
  {
   "cell_type": "code",
   "execution_count": 31,
   "id": "c7294e8b",
   "metadata": {},
   "outputs": [],
   "source": [
    "\n",
    "def strrounddp(num, decimal_p):\n",
    "    \"\"\"Arguments:\n",
    "            num:  the number to round\n",
    "            decimal_p: integer, the number of decimal places\n",
    "       returns:\n",
    "            result, string x rounded to p sig figs. \"\"\"\n",
    "\n",
    "    if num == \"\":\n",
    "        result = \"0.\" + \"0\" * decimal_p\n",
    "    else:\n",
    "        fmt = \"%.\" + str(decimal_p) + \"f\"\n",
    "        result = fmt % round(float(num), decimal_p)\n",
    "\n",
    "    return result\n"
   ]
  },
  {
   "cell_type": "code",
   "execution_count": null,
   "id": "beb6d599",
   "metadata": {},
   "outputs": [],
   "source": []
  },
  {
   "cell_type": "markdown",
   "id": "7ab3ab98",
   "metadata": {},
   "source": [
    "\n",
    "## Main Loop\n"
   ]
  },
  {
   "cell_type": "code",
   "execution_count": 32,
   "id": "5f80463c",
   "metadata": {},
   "outputs": [],
   "source": [
    "\n",
    "from matplotlib import pyplot\n",
    "import math\n"
   ]
  },
  {
   "cell_type": "code",
   "execution_count": 33,
   "id": "6cac01f6",
   "metadata": {},
   "outputs": [],
   "source": [
    "\n",
    "# Our 4x4 frequency data\n",
    "    \n",
    "\n",
    "distribution = [[12, 15, 2, 0],\n",
    "                [4, 21, 10, 0],\n",
    "                [0, 10, 21, 4],\n",
    "                [0, 2, 15, 12]]\n"
   ]
  },
  {
   "cell_type": "code",
   "execution_count": 34,
   "id": "e2cb502f",
   "metadata": {},
   "outputs": [],
   "source": [
    "\n",
    "\n",
    "col_total_frequencies = col_totals(distribution)  # Get col total freqs\n",
    "\n",
    "row_total_frequencies = row_totals(distribution)  # Get row total freqs\n"
   ]
  },
  {
   "cell_type": "code",
   "execution_count": 35,
   "id": "68361091",
   "metadata": {},
   "outputs": [],
   "source": [
    "\n",
    "allfrequencies = flatten(distribution)   # Make flat list of all freqs\n"
   ]
  },
  {
   "cell_type": "code",
   "execution_count": 36,
   "id": "e90c2a6a",
   "metadata": {},
   "outputs": [],
   "source": [
    "\n",
    "# HX is the entropy of the input values (col totals)\n",
    "    \n",
    "HX = entropy_from_frequencies( col_total_frequencies )\n"
   ]
  },
  {
   "cell_type": "code",
   "execution_count": 37,
   "id": "a0db7eac",
   "metadata": {},
   "outputs": [],
   "source": [
    "\n",
    "# HY is the entropy of the output values (row totals)\n",
    "    \n",
    "HY = entropy_from_frequencies( row_total_frequencies )\n"
   ]
  },
  {
   "cell_type": "code",
   "execution_count": 38,
   "id": "a686a82a",
   "metadata": {},
   "outputs": [],
   "source": [
    "\n",
    "# HXY is the entropy of the whole distribution\n",
    "\n",
    "HXY = entropy_from_frequencies(allfrequencies)\n"
   ]
  },
  {
   "cell_type": "code",
   "execution_count": 39,
   "id": "6ce7759f",
   "metadata": {},
   "outputs": [],
   "source": [
    "\n",
    "# IXY Mutual information\n",
    "\n",
    "IXY = HX + HY - HXY\n"
   ]
  },
  {
   "cell_type": "code",
   "execution_count": 40,
   "id": "986cc3c4",
   "metadata": {},
   "outputs": [],
   "source": [
    "\n",
    "# Prepare the probability table for display\n",
    "    \n",
    "tdat = [[\"y1\"]  + distribution[0] + [row_total_frequencies[0]],\n",
    "        [\"y2\"]  + distribution[1] + [row_total_frequencies[1]],\n",
    "        [\"y3\"]  + distribution[2] + [row_total_frequencies[2]],\n",
    "        [\"y4\"]  + distribution[3] + [row_total_frequencies[3]],\n",
    "        [\"Sum\"] + col_total_frequencies + [sum(row_total_frequencies)]]\n"
   ]
  },
  {
   "cell_type": "code",
   "execution_count": 41,
   "id": "c1195811",
   "metadata": {},
   "outputs": [],
   "source": [
    "\n",
    "# Prepare the calculated entropy/MI/noise table for display\n",
    "\n",
    "ents = [[\"H(X)\", strrounddp(HX, 3), \"a\"],\n",
    "        [\"H(Y)\", strrounddp(HY, 3), \"b\"],\n",
    "        [\"H(X,Y)\", strrounddp(HXY, 3), \"c\"],\n",
    "        [\"H(X) + H(Y)\", strrounddp(HX+HY, 3), \"d\"],\n",
    "        [\"I(X,Y)\", strrounddp(IXY, 3), \"mutual info\"],\n",
    "        [\"H(noise)\", strrounddp(HY - IXY, 3), \"noise\"]]\n"
   ]
  },
  {
   "cell_type": "code",
   "execution_count": 42,
   "id": "dcb8f857",
   "metadata": {},
   "outputs": [
    {
     "data": {
      "image/png": "[encoded data removed]",
      "text/plain": [
       "<Figure size 1000x400 with 2 Axes>"
      ]
     },
     "metadata": {},
     "output_type": "display_data"
    }
   ],
   "source": [
    "\n",
    "\n",
    "pyplot.figure(\"Example\", figsize=(10, 4))\n",
    "pyplot.subplot(2, 1, 1)\n",
    "pyplot.title('Counts of Input Value X and Output Value Y')\n",
    "pyplot.axis('off')\n",
    "pyplot.table(cellText=tdat,\n",
    "             colLabels=[\"Y\\X->\", \"x1\", \"x2\", \"x3\", \"x4\", \"Sum\"],\n",
    "             colLoc='center',\n",
    "             loc='best')\n",
    "\n",
    "pyplot.subplot(2, 1, 2)\n",
    "pyplot.title('Calculated Values')\n",
    "pyplot.axis('off')\n",
    "pyplot.table(cellText=ents,\n",
    "             colLabels=[\"Entity\", \"Bits\", \"Reference\"],\n",
    "             colLoc='center',\n",
    "             loc='best')\n",
    "\n",
    "pyplot.show()\n"
   ]
  },
  {
   "cell_type": "code",
   "execution_count": null,
   "id": "b46d94a8",
   "metadata": {},
   "outputs": [],
   "source": []
  },
  {
   "cell_type": "code",
   "execution_count": null,
   "id": "86b3d8d8",
   "metadata": {},
   "outputs": [],
   "source": []
  },
  {
   "cell_type": "code",
   "execution_count": null,
   "id": "59f369c9",
   "metadata": {},
   "outputs": [],
   "source": []
  },
  {
   "cell_type": "code",
   "execution_count": null,
   "id": "d4ba1a22",
   "metadata": {},
   "outputs": [],
   "source": []
  },
  {
   "cell_type": "code",
   "execution_count": null,
   "id": "a93e6c4d",
   "metadata": {},
   "outputs": [],
   "source": []
  },
  {
   "cell_type": "code",
   "execution_count": null,
   "id": "2da337c7",
   "metadata": {},
   "outputs": [],
   "source": []
  },
  {
   "cell_type": "code",
   "execution_count": null,
   "id": "ad1b97ef",
   "metadata": {},
   "outputs": [],
   "source": []
  },
  {
   "cell_type": "code",
   "execution_count": null,
   "id": "8a0f699b",
   "metadata": {},
   "outputs": [],
   "source": []
  },
  {
   "cell_type": "code",
   "execution_count": null,
   "id": "043e5ef4",
   "metadata": {},
   "outputs": [],
   "source": []
  },
  {
   "cell_type": "code",
   "execution_count": null,
   "id": "a6eaa5f7",
   "metadata": {},
   "outputs": [],
   "source": []
  },
  {
   "cell_type": "code",
   "execution_count": null,
   "id": "1534ffb9",
   "metadata": {},
   "outputs": [],
   "source": []
  },
  {
   "cell_type": "code",
   "execution_count": null,
   "id": "264594dd",
   "metadata": {},
   "outputs": [],
   "source": []
  }
 ],
 "metadata": {
  "kernelspec": {
   "display_name": "Python 3 (ipykernel)",
   "language": "python",
   "name": "python3"
  },
  "language_info": {
   "codemirror_mode": {
    "name": "ipython",
    "version": 3
   },
   "file_extension": ".py",
   "mimetype": "text/x-python",
   "name": "python",
   "nbconvert_exporter": "python",
   "pygments_lexer": "ipython3",
   "version": "3.7.16"
  }
 },
 "nbformat": 4,
 "nbformat_minor": 5
}

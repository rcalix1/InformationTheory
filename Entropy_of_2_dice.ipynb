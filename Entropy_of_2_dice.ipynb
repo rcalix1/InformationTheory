{
 "cells": [
  {
   "cell_type": "code",
   "execution_count": 1,
   "id": "9aacbff2",
   "metadata": {},
   "outputs": [],
   "source": [
    "\n",
    "from collections import Counter\n",
    "import itertools\n",
    "import numpy as np\n",
    "from matplotlib import pyplot\n",
    "\n",
    "import math\n"
   ]
  },
  {
   "cell_type": "code",
   "execution_count": 2,
   "id": "2d9feb30",
   "metadata": {},
   "outputs": [],
   "source": [
    "\n",
    "def entropy_from_probabilities(probabilities):\n",
    "    \"\"\"Arguments:\n",
    "            probabilities:  iterable, a probability distribution\n",
    "       returns:\n",
    "            HX:  float, the entropy of the passed distribution\"\"\"\n",
    "\n",
    "    # Check we have a valid list of probabilities\n",
    "    \n",
    "    probabilities = valid_probabilities(probabilities)\n",
    "\n",
    "    # Set entropy count to zero\n",
    "    HX = 0\n",
    "\n",
    "    # Loop over all probabilities and sum the entropy from each \n",
    "    \n",
    "    for px in probabilities:\n",
    "        \n",
    "        HX = HX + px * log2(1.0/px)\n",
    "\n",
    "    return HX\n"
   ]
  },
  {
   "cell_type": "code",
   "execution_count": 3,
   "id": "21a549e3",
   "metadata": {},
   "outputs": [],
   "source": [
    "\n",
    "def strrounddp(num, decimal_p):\n",
    "    \"\"\"Arguments:\n",
    "            num:  the number to round\n",
    "            decimal_p: integer, the number of decimal places\n",
    "       returns:\n",
    "            result, string x rounded to p sig figs. \"\"\"\n",
    "\n",
    "    if num == \"\":\n",
    "        result = \"0.\" + \"0\" * decimal_p\n",
    "    else:\n",
    "        fmt = \"%.\" + str(decimal_p) + \"f\"\n",
    "        result = fmt % round(float(num), decimal_p)\n",
    "\n",
    "    return result\n",
    "\n"
   ]
  },
  {
   "cell_type": "code",
   "execution_count": 4,
   "id": "d609cb8d",
   "metadata": {},
   "outputs": [],
   "source": [
    "\n",
    "def log2(posval):\n",
    "    \"\"\"Arguments:\n",
    "            posval:  a postive number\n",
    "       returns:\n",
    "            result:  float, base 2 log of posval\"\"\"\n",
    "\n",
    "    result = math.log(posval, 2)\n",
    "\n",
    "    return result\n",
    "\n"
   ]
  },
  {
   "cell_type": "code",
   "execution_count": 5,
   "id": "1d2c2807",
   "metadata": {},
   "outputs": [],
   "source": [
    "\n",
    "def valid_probabilities(distribution):\n",
    "    \"\"\"Arguments:\n",
    "            distribution:  a list of probabilities.\n",
    "       returns:\n",
    "            probabilities, list of valid probabilities. It removes zero values.\n",
    "\n",
    "    All values should be positive.  The sum of the\n",
    "    probabilities should be equal to 1.0 to 2 decimal places. \"\"\"\n",
    "\n",
    "    # Check the probabilities sum to 1.00 to 2 decimal places\n",
    "    \n",
    "    if round( sum(distribution), 2 ) != 1.0:\n",
    "        raise ValueError('Probabilities do not sum to 1')\n",
    "\n",
    "    # Check we have no negative values\n",
    "    if min(distribution) < 0:\n",
    "        raise ValueError('Negative probability')\n",
    "\n",
    "    # Make a list of the probabilities in distribution where\n",
    "    # the probability is greater than zero\n",
    "    \n",
    "    probabilities = [ p for p in distribution if p > 0 ]\n",
    "\n",
    "    return probabilities\n"
   ]
  },
  {
   "cell_type": "markdown",
   "id": "6d19b21c",
   "metadata": {},
   "source": [
    "\n",
    "## Calculates entropy of two dice\n"
   ]
  },
  {
   "cell_type": "code",
   "execution_count": 6,
   "id": "b3448781",
   "metadata": {},
   "outputs": [],
   "source": [
    "\n",
    "\n",
    "def main():\n",
    "\n",
    "    # Create a list holding the possible outcomes for a single dice\n",
    "    dice = [1, 2, 3, 4, 5, 6]\n",
    "\n",
    "    # Get the combinations of two dice\n",
    "    # Use itertools.product which gives the Cartesian product of two lists.\n",
    "    combinations = itertools.product(dice, dice)\n",
    "\n",
    "    # Work out the sum of each combination.\n",
    "    # In words : \"Make a list of the sum of each combination for every\n",
    "    # combination in combinations.\n",
    "    \n",
    "\n",
    "    dice_totals = [    sum(combination) for combination in combinations    ]\n",
    "    print( dice_totals )\n",
    "    \n",
    "\n",
    "    # Generate a dict of items and their frequencies\n",
    "    counterdict = Counter(dice_totals)\n",
    "    print(  counterdict  )\n",
    "\n",
    "    # Extract the frequencies & sums\n",
    "    frequencies     = counterdict.values()\n",
    "    two_dice_totals = counterdict.keys()\n",
    "\n",
    "    # Transform the frequencies to probabilities\n",
    "    # The probability of an event is its frequency divided by the total of all\n",
    "    # frequencies.  \n",
    "    # In words : \"calculate the probabilty for each frequency in the\n",
    "    # list of frequencies\"\n",
    "\n",
    "    sum_of_frequencies = sum(frequencies)\n",
    "    print(sum_of_frequencies)\n",
    "\n",
    "    probabilities = [freq / float(sum_of_frequencies) for freq in frequencies]\n",
    "    print( probabilities )\n",
    "\n",
    "    HX = entropy_from_probabilities(probabilities)\n",
    "    \n",
    "    #######################################\n",
    "\n",
    "    pyplot.figure(\"Example\")\n",
    "    axes = pyplot.subplot(111)\n",
    "    width = 0.2                 # Set the bar width\n",
    "    # Add a blank label to shift the bars right\n",
    "    print( two_dice_totals )\n",
    "    two_dice_totals = [\" \"] + list( two_dice_totals )\n",
    "\n",
    "    # Create the bars.  Prepend a zero value to the probability list\n",
    "    # to go with the blank label.\n",
    "    \n",
    "    axes.bar(range(len(two_dice_totals)), [0] + probabilities, width=width)\n",
    "\n",
    "    axes.set_xticks(np.arange(len(two_dice_totals)) + width / 2)\n",
    "    axes.set_xticklabels(two_dice_totals)\n",
    "\n",
    "    \n",
    "    pyplot.title(\"Entropy = %s bits/pair\" % strrounddp(HX, 3),fontsize=20)\n",
    "    pyplot.xlabel(\"Outcome value\",      fontsize=20)\n",
    "    pyplot.ylabel(\"Outcome probability\",fontsize=20)\n",
    "\n",
    "\n",
    "    pyplot.show()\n",
    "\n",
    "\n"
   ]
  },
  {
   "cell_type": "code",
   "execution_count": 7,
   "id": "33d170ca",
   "metadata": {},
   "outputs": [
    {
     "name": "stdout",
     "output_type": "stream",
     "text": [
      "[2, 3, 4, 5, 6, 7, 3, 4, 5, 6, 7, 8, 4, 5, 6, 7, 8, 9, 5, 6, 7, 8, 9, 10, 6, 7, 8, 9, 10, 11, 7, 8, 9, 10, 11, 12]\n",
      "Counter({7: 6, 6: 5, 8: 5, 5: 4, 9: 4, 4: 3, 10: 3, 3: 2, 11: 2, 2: 1, 12: 1})\n",
      "36\n",
      "[0.027777777777777776, 0.05555555555555555, 0.08333333333333333, 0.1111111111111111, 0.1388888888888889, 0.16666666666666666, 0.1388888888888889, 0.1111111111111111, 0.08333333333333333, 0.05555555555555555, 0.027777777777777776]\n",
      "dict_keys([2, 3, 4, 5, 6, 7, 8, 9, 10, 11, 12])\n"
     ]
    },
    {
     "data": {
      "image/png": "[encoded data removed]",
      "text/plain": [
       "<Figure size 640x480 with 1 Axes>"
      ]
     },
     "metadata": {},
     "output_type": "display_data"
    }
   ],
   "source": [
    "\n",
    "\n",
    "main()\n",
    "\n"
   ]
  },
  {
   "cell_type": "code",
   "execution_count": null,
   "id": "c6284061",
   "metadata": {},
   "outputs": [],
   "source": []
  },
  {
   "cell_type": "code",
   "execution_count": null,
   "id": "0b228545",
   "metadata": {},
   "outputs": [],
   "source": []
  },
  {
   "cell_type": "code",
   "execution_count": null,
   "id": "de6706aa",
   "metadata": {},
   "outputs": [],
   "source": []
  },
  {
   "cell_type": "code",
   "execution_count": null,
   "id": "94025a9a",
   "metadata": {},
   "outputs": [],
   "source": []
  },
  {
   "cell_type": "code",
   "execution_count": null,
   "id": "462f0a47",
   "metadata": {},
   "outputs": [],
   "source": []
  },
  {
   "cell_type": "code",
   "execution_count": null,
   "id": "6cb8cd0a",
   "metadata": {},
   "outputs": [],
   "source": []
  },
  {
   "cell_type": "code",
   "execution_count": null,
   "id": "26adc2e8",
   "metadata": {},
   "outputs": [],
   "source": []
  },
  {
   "cell_type": "code",
   "execution_count": null,
   "id": "ee52025c",
   "metadata": {},
   "outputs": [],
   "source": []
  },
  {
   "cell_type": "code",
   "execution_count": null,
   "id": "6984e063",
   "metadata": {},
   "outputs": [],
   "source": []
  },
  {
   "cell_type": "code",
   "execution_count": null,
   "id": "ec192ec3",
   "metadata": {},
   "outputs": [],
   "source": []
  },
  {
   "cell_type": "code",
   "execution_count": null,
   "id": "9d7329d0",
   "metadata": {},
   "outputs": [],
   "source": []
  },
  {
   "cell_type": "code",
   "execution_count": null,
   "id": "28594b8f",
   "metadata": {},
   "outputs": [],
   "source": []
  },
  {
   "cell_type": "code",
   "execution_count": null,
   "id": "841ac00a",
   "metadata": {},
   "outputs": [],
   "source": []
  },
  {
   "cell_type": "code",
   "execution_count": null,
   "id": "450238af",
   "metadata": {},
   "outputs": [],
   "source": []
  },
  {
   "cell_type": "code",
   "execution_count": null,
   "id": "b9e852b8",
   "metadata": {},
   "outputs": [],
   "source": []
  },
  {
   "cell_type": "code",
   "execution_count": null,
   "id": "67ff4474",
   "metadata": {},
   "outputs": [],
   "source": []
  },
  {
   "cell_type": "code",
   "execution_count": null,
   "id": "d6eb8440",
   "metadata": {},
   "outputs": [],
   "source": []
  },
  {
   "cell_type": "code",
   "execution_count": null,
   "id": "7d1d8a7c",
   "metadata": {},
   "outputs": [],
   "source": []
  },
  {
   "cell_type": "code",
   "execution_count": null,
   "id": "c19a209e",
   "metadata": {},
   "outputs": [],
   "source": []
  },
  {
   "cell_type": "code",
   "execution_count": null,
   "id": "50c316cd",
   "metadata": {},
   "outputs": [],
   "source": []
  },
  {
   "cell_type": "code",
   "execution_count": null,
   "id": "36c1dfe7",
   "metadata": {},
   "outputs": [],
   "source": []
  },
  {
   "cell_type": "code",
   "execution_count": null,
   "id": "58d2e9b0",
   "metadata": {},
   "outputs": [],
   "source": []
  },
  {
   "cell_type": "code",
   "execution_count": null,
   "id": "2bff4176",
   "metadata": {},
   "outputs": [],
   "source": []
  },
  {
   "cell_type": "code",
   "execution_count": null,
   "id": "e72e6907",
   "metadata": {},
   "outputs": [],
   "source": []
  },
  {
   "cell_type": "code",
   "execution_count": null,
   "id": "d8363afa",
   "metadata": {},
   "outputs": [],
   "source": []
  }
 ],
 "metadata": {
  "kernelspec": {
   "display_name": "Python 3 (ipykernel)",
   "language": "python",
   "name": "python3"
  },
  "language_info": {
   "codemirror_mode": {
    "name": "ipython",
    "version": 3
   },
   "file_extension": ".py",
   "mimetype": "text/x-python",
   "name": "python",
   "nbconvert_exporter": "python",
   "pygments_lexer": "ipython3",
   "version": "3.7.16"
  }
 },
 "nbformat": 4,
 "nbformat_minor": 5
}
